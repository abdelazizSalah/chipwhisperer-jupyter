{
 "cells": [
  {
   "cell_type": "code",
   "execution_count": 1,
   "metadata": {},
   "outputs": [],
   "source": [
    "import os\n",
    "from glob import glob\n",
    "import tests\n",
    "import shutil\n",
    "from tests.tutorials import test_notebook, clear_outputs_in_dir\n",
    "from functools import partial"
   ]
  },
  {
   "cell_type": "code",
   "execution_count": 2,
   "metadata": {},
   "outputs": [],
   "source": [
    "with tests.cd('../hardware/victims/firmware'):\n",
    "    dirs = glob('simpleserial-base-lab*')\n",
    "    dirs.extend(glob('glitch-simple-lab*'))\n",
    "    dirs.extend(glob('simpleserial-aes-lab*'))\n",
    "    for d in dirs:\n",
    "        shutil.rmtree(d)"
   ]
  },
  {
   "cell_type": "code",
   "execution_count": 22,
   "metadata": {},
   "outputs": [
    {
     "name": "stdout",
     "output_type": "stream",
     "text": [
      "Clearing ./courses/sca101/SOLN_Lab 2_1B - Power Analysis for Password Bypass.ipynb\n",
      "Clearing ./courses/sca101/SOLN_Lab 3_1 - Large Hamming Weight Swings.ipynb\n",
      "Clearing ./courses/sca101/SOLN_Lab 3_3 - DPA on Firmware Implementation of AES.ipynb\n",
      "Clearing ./courses/sca101/SOLN_Lab 4_1 - Power and Hamming Weight Relationship.ipynb\n",
      "Clearing ./courses/sca101/SOLN_Lab 4_2 - CPA on Firmware Implementation of AES.ipynb\n"
     ]
    }
   ],
   "source": [
    "clear_outputs_in_dir(\"./courses/sca101\", kwargs={\"SCOPETYPE\": \"OPENADC\", \"PLATFORM\": \"CWLITEARM\", \"VERSION\": \"HARDWARE\"})"
   ]
  },
  {
   "cell_type": "code",
   "execution_count": 23,
   "metadata": {},
   "outputs": [
    {
     "name": "stdout",
     "output_type": "stream",
     "text": [
      "Clearing ./courses/sca101/Lab 2_1A - Instruction Power Differences (HARDWARE).ipynb\n",
      "Clearing ./courses/sca101/Lab 2_1A - Instruction Power Differences (MAIN).ipynb\n",
      "Clearing ./courses/sca101/Lab 2_1A - Instruction Power Differences (SIMULATED).ipynb\n",
      "Clearing ./courses/sca101/Lab 2_1B - Power Analysis for Password Bypass (HARDWARE).ipynb\n",
      "Clearing ./courses/sca101/Lab 2_1B - Power Analysis for Password Bypass (MAIN).ipynb\n",
      "Clearing ./courses/sca101/Lab 2_1B - Power Analysis for Password Bypass (SIMULATED).ipynb\n",
      "Clearing ./courses/sca101/Lab 3_1 - Large Hamming Weight Swings (HARDWARE).ipynb\n",
      "Clearing ./courses/sca101/Lab 3_1 - Large Hamming Weight Swings (MAIN).ipynb\n",
      "Clearing ./courses/sca101/Lab 3_1 - Large Hamming Weight Swings (SIMULATED).ipynb\n",
      "Clearing ./courses/sca101/Lab 3_2 - Recovering Data from a Single Bit.ipynb\n",
      "Clearing ./courses/sca101/Lab 3_3 - DPA on Firmware Implementation of AES (HARDWARE).ipynb\n",
      "Clearing ./courses/sca101/Lab 3_3 - DPA on Firmware Implementation of AES (MAIN).ipynb\n",
      "Clearing ./courses/sca101/Lab 3_3 - DPA on Firmware Implementation of AES (SIMULATED).ipynb\n",
      "Clearing ./courses/sca101/Lab 4_1 - Power and Hamming Weight Relationship (HARDWARE).ipynb\n",
      "Clearing ./courses/sca101/Lab 4_1 - Power and Hamming Weight Relationship (MAIN).ipynb\n",
      "Clearing ./courses/sca101/Lab 4_1 - Power and Hamming Weight Relationship (SIMULATED).ipynb\n",
      "Clearing ./courses/sca101/Lab 4_2 - CPA on Firmware Implementation of AES (HARDWARE).ipynb\n",
      "Clearing ./courses/sca101/Lab 4_2 - CPA on Firmware Implementation of AES (MAIN).ipynb\n",
      "Clearing ./courses/sca101/Lab 4_2 - CPA on Firmware Implementation of AES (SIMULATED).ipynb\n",
      "Clearing ./courses/sca101/Lab 4_3 - ChipWhisperer Analyzer CPA Attack (HARDWARE).ipynb\n",
      "Clearing ./courses/sca101/Lab 4_3 - ChipWhisperer Analyzer CPA Attack (MAIN).ipynb\n",
      "Clearing ./courses/sca101/Lab 4_3 - ChipWhisperer Analyzer CPA Attack (SIMULATED).ipynb\n"
     ]
    }
   ],
   "source": [
    "clear_outputs_in_dir(\"./courses/sca101\", blacklist=r\"^SOLN.*\", kwargs={})"
   ]
  },
  {
   "cell_type": "code",
   "execution_count": 8,
   "metadata": {},
   "outputs": [],
   "source": [
    "output_dir = os.path.abspath(os.path.join('..', 'tutorials'))\n",
    "test_notebook = partial(test_notebook, allow_errors=False, output_dir=output_dir)\n",
    "\n",
    "# make sure the images are copied over for linking\n",
    "try:\n",
    "    os.mkdir(os.path.join(output_dir, 'img'))\n",
    "except FileExistsError:\n",
    "    pass\n",
    "\n",
    "for image in glob('./img/*'):\n",
    "    _, image_name = os.path.split(image)\n",
    "    print(os.path.join(output_dir, 'img', image_name))\n",
    "    shutil.copyfile(image, os.path.join(output_dir, 'img', image_name))"
   ]
  },
  {
   "cell_type": "code",
   "execution_count": 5,
   "metadata": {},
   "outputs": [],
   "source": [
    "testscope = 'OPENADC'\n",
    "testplat = 'CWLITEARM'\n",
    "crypt = 'TINYAES128C'"
   ]
  },
  {
   "cell_type": "code",
   "execution_count": null,
   "metadata": {},
   "outputs": [],
   "source": [
    "testscope = 'OPENADC'\n",
    "testplat = 'CWLITEXMEGA'\n",
    "crypt = 'AVRCRYPTOLIB'"
   ]
  },
  {
   "cell_type": "code",
   "execution_count": null,
   "metadata": {},
   "outputs": [],
   "source": [
    "testscope = 'CWNANO'\n",
    "testplat = 'CWNANO'\n",
    "crypt = 'TINYAES128C'"
   ]
  },
  {
   "cell_type": "code",
   "execution_count": 6,
   "metadata": {},
   "outputs": [],
   "source": [
    "version = 'HARDWARE'"
   ]
  },
  {
   "cell_type": "code",
   "execution_count": 14,
   "metadata": {},
   "outputs": [],
   "source": [
    "version='SIMULATED'"
   ]
  },
  {
   "cell_type": "code",
   "execution_count": 15,
   "metadata": {},
   "outputs": [
    {
     "name": "stdout",
     "output_type": "stream",
     "text": [
      "\n",
      "Testing: C:\\Users\\adewar\\Code\\chipwhisperer\\jupyter\\courses\\sca101\\SOLN_Lab 2_1B - Power Analysis for Password Bypass.ipynb:...\n",
      "with {'SCOPETYPE': 'OPENADC', 'PLATFORM': 'CWLITEARM', 'VERSION': 'SIMULATED'}.\n",
      "No serial number specified... only bad if more than one device attached.\n",
      "PASSED\n",
      "Wrote to:  C:\\Users\\adewar\\Code\\chipwhisperer\\tutorials\\SOLN_Lab 2_1B - Power Analysis for Password Bypass-OPENADC-CWLITEARM.rst\n",
      "Wrote to:  C:\\Users\\adewar\\Code\\chipwhisperer\\tutorials\\SOLN_Lab 2_1B - Power Analysis for Password Bypass-OPENADC-CWLITEARM.html\n"
     ]
    },
    {
     "data": {
      "text/plain": [
       "(True,\n",
       " \"\\nTesting: C:\\\\Users\\\\adewar\\\\Code\\\\chipwhisperer\\\\jupyter\\\\courses\\\\sca101\\\\SOLN_Lab 2_1B - Power Analysis for Password Bypass.ipynb:...\\nwith {'SCOPETYPE': 'OPENADC', 'PLATFORM': 'CWLITEARM', 'VERSION': 'SIMULATED'}.\\nNo serial number specified... only bad if more than one device attached.\\nPASSED\\nWrote to:  C:\\\\Users\\\\adewar\\\\Code\\\\chipwhisperer\\\\tutorials\\\\SOLN_Lab 2_1B - Power Analysis for Password Bypass-OPENADC-CWLITEARM.rst\\nWrote to:  C:\\\\Users\\\\adewar\\\\Code\\\\chipwhisperer\\\\tutorials\\\\SOLN_Lab 2_1B - Power Analysis for Password Bypass-OPENADC-CWLITEARM.html\")"
      ]
     },
     "execution_count": 15,
     "metadata": {},
     "output_type": "execute_result"
    }
   ],
   "source": [
    "test_notebook('courses/sca101/SOLN_Lab 2_1B - Power Analysis for Password Bypass.ipynb', SCOPETYPE=testscope, PLATFORM=testplat, VERSION=version)"
   ]
  },
  {
   "cell_type": "code",
   "execution_count": 16,
   "metadata": {},
   "outputs": [
    {
     "name": "stdout",
     "output_type": "stream",
     "text": [
      "\n",
      "Testing: C:\\Users\\adewar\\Code\\chipwhisperer\\jupyter\\courses\\sca101\\SOLN_Lab 3_1 - Large Hamming Weight Swings.ipynb:...\n",
      "with {'SCOPETYPE': 'OPENADC', 'PLATFORM': 'CWLITEARM', 'CRYPTO_TARGET': 'TINYAES128C', 'VERSION': 'SIMULATED'}.\n",
      "No serial number specified... only bad if more than one device attached.\n",
      "PASSED\n",
      "Wrote to:  C:\\Users\\adewar\\Code\\chipwhisperer\\tutorials\\SOLN_Lab 3_1 - Large Hamming Weight Swings-OPENADC-CWLITEARM.rst\n",
      "Wrote to:  C:\\Users\\adewar\\Code\\chipwhisperer\\tutorials\\SOLN_Lab 3_1 - Large Hamming Weight Swings-OPENADC-CWLITEARM.html\n"
     ]
    },
    {
     "data": {
      "text/plain": [
       "(True,\n",
       " \"\\nTesting: C:\\\\Users\\\\adewar\\\\Code\\\\chipwhisperer\\\\jupyter\\\\courses\\\\sca101\\\\SOLN_Lab 3_1 - Large Hamming Weight Swings.ipynb:...\\nwith {'SCOPETYPE': 'OPENADC', 'PLATFORM': 'CWLITEARM', 'CRYPTO_TARGET': 'TINYAES128C', 'VERSION': 'SIMULATED'}.\\nNo serial number specified... only bad if more than one device attached.\\nPASSED\\nWrote to:  C:\\\\Users\\\\adewar\\\\Code\\\\chipwhisperer\\\\tutorials\\\\SOLN_Lab 3_1 - Large Hamming Weight Swings-OPENADC-CWLITEARM.rst\\nWrote to:  C:\\\\Users\\\\adewar\\\\Code\\\\chipwhisperer\\\\tutorials\\\\SOLN_Lab 3_1 - Large Hamming Weight Swings-OPENADC-CWLITEARM.html\")"
      ]
     },
     "execution_count": 16,
     "metadata": {},
     "output_type": "execute_result"
    }
   ],
   "source": [
    "test_notebook('courses/sca101/SOLN_Lab 3_1 - Large Hamming Weight Swings.ipynb', SCOPETYPE=testscope, PLATFORM=testplat, CRYPTO_TARGET=crypt,  VERSION=version)"
   ]
  },
  {
   "cell_type": "code",
   "execution_count": 17,
   "metadata": {},
   "outputs": [
    {
     "name": "stdout",
     "output_type": "stream",
     "text": [
      "\n",
      "Testing: C:\\Users\\adewar\\Code\\chipwhisperer\\jupyter\\courses\\sca101\\SOLN_Lab 3_3 - DPA on Firmware Implementation of AES.ipynb:...\n",
      "with {'SCOPETYPE': 'OPENADC', 'PLATFORM': 'CWLITEARM', 'CRYPTO_TARGET': 'TINYAES128C', 'VERSION': 'SIMULATED'}.\n",
      "No serial number specified... only bad if more than one device attached.\n"
     ]
    },
    {
     "name": "stderr",
     "output_type": "stream",
     "text": [
      "ERROR:root:Internal Python error in the inspect module.\n",
      "Below is the traceback from this internal error.\n",
      "\n"
     ]
    },
    {
     "name": "stdout",
     "output_type": "stream",
     "text": [
      "Traceback (most recent call last):\n",
      "  File \"C:\\Users\\adewar\\Downloads\\WPy64-3760\\python-3.7.6.amd64\\lib\\site-packages\\IPython\\core\\interactiveshell.py\", line 3319, in run_code\n",
      "    exec(code_obj, self.user_global_ns, self.user_ns)\n",
      "  File \"<ipython-input-17-e2ca741ff8b4>\", line 1, in <module>\n",
      "    test_notebook('courses/sca101/SOLN_Lab 3_3 - DPA on Firmware Implementation of AES.ipynb', SCOPETYPE=testscope, PLATFORM=testplat, CRYPTO_TARGET=crypt,  VERSION=version)\n",
      "  File \"C:\\Users\\adewar\\Code\\chipwhisperer\\jupyter\\tests\\tutorials.py\", line 203, in test_notebook\n",
      "    nb, errors, export_kwargs = execute_notebook(nb_path, serial_number, allow_errors=allow_errors, allowable_exceptions=allowable_exceptions, baud=baud, **kwargs)\n",
      "  File \"C:\\Users\\adewar\\Code\\chipwhisperer\\jupyter\\tests\\tutorials.py\", line 110, in execute_notebook\n",
      "    nb, resources = ep.preprocess(nb, {'metadata': {'path': './'}})\n",
      "  File \"C:\\Users\\adewar\\Downloads\\WPy64-3760\\python-3.7.6.amd64\\lib\\site-packages\\nbconvert\\preprocessors\\execute.py\", line 405, in preprocess\n",
      "    nb, resources = super(ExecutePreprocessor, self).preprocess(nb, resources)\n",
      "  File \"C:\\Users\\adewar\\Downloads\\WPy64-3760\\python-3.7.6.amd64\\lib\\site-packages\\nbconvert\\preprocessors\\base.py\", line 69, in preprocess\n",
      "    nb.cells[index], resources = self.preprocess_cell(cell, resources, index)\n",
      "  File \"C:\\Users\\adewar\\Downloads\\WPy64-3760\\python-3.7.6.amd64\\lib\\site-packages\\nbconvert\\preprocessors\\execute.py\", line 448, in preprocess_cell\n",
      "    raise CellExecutionError.from_cell_and_msg(cell, out)\n",
      "nbconvert.preprocessors.execute.CellExecutionError: An error occurred while executing the following cell:\n",
      "------------------\n",
      "if VERSION == 'HARDWARE':\n",
      "    %run \"Lab 3_3 - DPA on Firmware Implementation of AES (HARDWARE).ipynb\"\n",
      "elif VERSION == 'SIMULATED':\n",
      "    %run \"Lab 3_3 - DPA on Firmware Implementation of AES (SIMULATED).ipynb\"\n",
      "------------------\n",
      "\n",
      "\u001b[1;31m---------------------------------------------------------------------------\u001b[0m\n",
      "\u001b[1;31mFileNotFoundError\u001b[0m                         Traceback (most recent call last)\n",
      "\u001b[1;32mC:\\Users\\adewar\\Code\\chipwhisperer\\jupyter\\courses\\sca101\\Lab 3_3 - DPA on Firmware Implementation of AES (SIMULATED).ipynb\u001b[0m in \u001b[0;36m<module>\u001b[1;34m\u001b[0m\n",
      "\u001b[0;32m      1\u001b[0m \u001b[1;32mimport\u001b[0m \u001b[0mnumpy\u001b[0m \u001b[1;32mas\u001b[0m \u001b[0mnp\u001b[0m\u001b[1;33m\u001b[0m\u001b[1;33m\u001b[0m\u001b[0m\n",
      "\u001b[0;32m      2\u001b[0m \u001b[1;33m\u001b[0m\u001b[0m\n",
      "\u001b[1;32m----> 3\u001b[1;33m \u001b[0maes_traces_2500_tracedata\u001b[0m \u001b[1;33m=\u001b[0m \u001b[0mnp\u001b[0m\u001b[1;33m.\u001b[0m\u001b[0mload\u001b[0m\u001b[1;33m(\u001b[0m\u001b[1;34mr\"traces/lab3_3_traces.npy\"\u001b[0m\u001b[1;33m)\u001b[0m\u001b[1;33m\u001b[0m\u001b[1;33m\u001b[0m\u001b[0m\n",
      "\u001b[0m\u001b[0;32m      4\u001b[0m \u001b[0maes_traces_2500_textindata\u001b[0m \u001b[1;33m=\u001b[0m \u001b[0mnp\u001b[0m\u001b[1;33m.\u001b[0m\u001b[0mload\u001b[0m\u001b[1;33m(\u001b[0m\u001b[1;34mr\"traces/lab3_3_textin.npy\"\u001b[0m\u001b[1;33m)\u001b[0m\u001b[1;33m\u001b[0m\u001b[1;33m\u001b[0m\u001b[0m\n",
      "\u001b[0;32m      5\u001b[0m \u001b[1;33m\u001b[0m\u001b[0m\n",
      "\n",
      "\u001b[1;32mC:\\Users\\adewar\\Downloads\\WPy64-3760\\python-3.7.6.amd64\\lib\\site-packages\\numpy\\lib\\npyio.py\u001b[0m in \u001b[0;36mload\u001b[1;34m(file, mmap_mode, allow_pickle, fix_imports, encoding)\u001b[0m\n",
      "\u001b[0;32m    426\u001b[0m         \u001b[0mown_fid\u001b[0m \u001b[1;33m=\u001b[0m \u001b[1;32mFalse\u001b[0m\u001b[1;33m\u001b[0m\u001b[1;33m\u001b[0m\u001b[0m\n",
      "\u001b[0;32m    427\u001b[0m     \u001b[1;32melse\u001b[0m\u001b[1;33m:\u001b[0m\u001b[1;33m\u001b[0m\u001b[1;33m\u001b[0m\u001b[0m\n",
      "\u001b[1;32m--> 428\u001b[1;33m         \u001b[0mfid\u001b[0m \u001b[1;33m=\u001b[0m \u001b[0mopen\u001b[0m\u001b[1;33m(\u001b[0m\u001b[0mos_fspath\u001b[0m\u001b[1;33m(\u001b[0m\u001b[0mfile\u001b[0m\u001b[1;33m)\u001b[0m\u001b[1;33m,\u001b[0m \u001b[1;34m\"rb\"\u001b[0m\u001b[1;33m)\u001b[0m\u001b[1;33m\u001b[0m\u001b[1;33m\u001b[0m\u001b[0m\n",
      "\u001b[0m\u001b[0;32m    429\u001b[0m         \u001b[0mown_fid\u001b[0m \u001b[1;33m=\u001b[0m \u001b[1;32mTrue\u001b[0m\u001b[1;33m\u001b[0m\u001b[1;33m\u001b[0m\u001b[0m\n",
      "\u001b[0;32m    430\u001b[0m \u001b[1;33m\u001b[0m\u001b[0m\n",
      "\n",
      "\u001b[1;31mFileNotFoundError\u001b[0m: [Errno 2] No such file or directory: 'traces/lab3_3_traces.npy'\n",
      "FileNotFoundError: [Errno 2] No such file or directory: 'traces/lab3_3_traces.npy'\n",
      "\n",
      "\n",
      "During handling of the above exception, another exception occurred:\n",
      "\n",
      "Traceback (most recent call last):\n",
      "  File \"C:\\Users\\adewar\\Downloads\\WPy64-3760\\python-3.7.6.amd64\\lib\\site-packages\\IPython\\core\\interactiveshell.py\", line 2034, in showtraceback\n",
      "    stb = value._render_traceback_()\n",
      "AttributeError: 'CellExecutionError' object has no attribute '_render_traceback_'\n",
      "\n",
      "During handling of the above exception, another exception occurred:\n",
      "\n",
      "Traceback (most recent call last):\n",
      "  File \"C:\\Users\\adewar\\Downloads\\WPy64-3760\\python-3.7.6.amd64\\lib\\site-packages\\IPython\\core\\ultratb.py\", line 1101, in get_records\n",
      "    return _fixed_getinnerframes(etb, number_of_lines_of_context, tb_offset)\n",
      "  File \"C:\\Users\\adewar\\Downloads\\WPy64-3760\\python-3.7.6.amd64\\lib\\site-packages\\IPython\\core\\ultratb.py\", line 319, in wrapped\n",
      "    return f(*args, **kwargs)\n",
      "  File \"C:\\Users\\adewar\\Downloads\\WPy64-3760\\python-3.7.6.amd64\\lib\\site-packages\\IPython\\core\\ultratb.py\", line 365, in _fixed_getinnerframes\n",
      "    aux = traceback.extract_tb(etb)\n",
      "  File \"C:\\Users\\adewar\\Downloads\\WPy64-3760\\python-3.7.6.amd64\\lib\\traceback.py\", line 72, in extract_tb\n",
      "    return StackSummary.extract(walk_tb(tb), limit=limit)\n",
      "  File \"C:\\Users\\adewar\\Downloads\\WPy64-3760\\python-3.7.6.amd64\\lib\\traceback.py\", line 359, in extract\n",
      "    linecache.checkcache(filename)\n",
      "  File \"C:\\Users\\adewar\\Downloads\\WPy64-3760\\python-3.7.6.amd64\\lib\\site-packages\\IPython\\core\\compilerop.py\", line 157, in check_linecache_ipython\n",
      "    linecache._checkcache_ori(*args)\n",
      "  File \"C:\\Users\\adewar\\Downloads\\WPy64-3760\\python-3.7.6.amd64\\lib\\linecache.py\", line 74, in checkcache\n",
      "    stat = os.stat(fullname)\n",
      "KeyboardInterrupt\n"
     ]
    },
    {
     "ename": "CellExecutionError",
     "evalue": "An error occurred while executing the following cell:\n------------------\nif VERSION == 'HARDWARE':\n    %run \"Lab 3_3 - DPA on Firmware Implementation of AES (HARDWARE).ipynb\"\nelif VERSION == 'SIMULATED':\n    %run \"Lab 3_3 - DPA on Firmware Implementation of AES (SIMULATED).ipynb\"\n------------------\n\n\u001b[1;31m---------------------------------------------------------------------------\u001b[0m\n\u001b[1;31mFileNotFoundError\u001b[0m                         Traceback (most recent call last)\n\u001b[1;32mC:\\Users\\adewar\\Code\\chipwhisperer\\jupyter\\courses\\sca101\\Lab 3_3 - DPA on Firmware Implementation of AES (SIMULATED).ipynb\u001b[0m in \u001b[0;36m<module>\u001b[1;34m\u001b[0m\n\u001b[0;32m      1\u001b[0m \u001b[1;32mimport\u001b[0m \u001b[0mnumpy\u001b[0m \u001b[1;32mas\u001b[0m \u001b[0mnp\u001b[0m\u001b[1;33m\u001b[0m\u001b[1;33m\u001b[0m\u001b[0m\n\u001b[0;32m      2\u001b[0m \u001b[1;33m\u001b[0m\u001b[0m\n\u001b[1;32m----> 3\u001b[1;33m \u001b[0maes_traces_2500_tracedata\u001b[0m \u001b[1;33m=\u001b[0m \u001b[0mnp\u001b[0m\u001b[1;33m.\u001b[0m\u001b[0mload\u001b[0m\u001b[1;33m(\u001b[0m\u001b[1;34mr\"traces/lab3_3_traces.npy\"\u001b[0m\u001b[1;33m)\u001b[0m\u001b[1;33m\u001b[0m\u001b[1;33m\u001b[0m\u001b[0m\n\u001b[0m\u001b[0;32m      4\u001b[0m \u001b[0maes_traces_2500_textindata\u001b[0m \u001b[1;33m=\u001b[0m \u001b[0mnp\u001b[0m\u001b[1;33m.\u001b[0m\u001b[0mload\u001b[0m\u001b[1;33m(\u001b[0m\u001b[1;34mr\"traces/lab3_3_textin.npy\"\u001b[0m\u001b[1;33m)\u001b[0m\u001b[1;33m\u001b[0m\u001b[1;33m\u001b[0m\u001b[0m\n\u001b[0;32m      5\u001b[0m \u001b[1;33m\u001b[0m\u001b[0m\n\n\u001b[1;32mC:\\Users\\adewar\\Downloads\\WPy64-3760\\python-3.7.6.amd64\\lib\\site-packages\\numpy\\lib\\npyio.py\u001b[0m in \u001b[0;36mload\u001b[1;34m(file, mmap_mode, allow_pickle, fix_imports, encoding)\u001b[0m\n\u001b[0;32m    426\u001b[0m         \u001b[0mown_fid\u001b[0m \u001b[1;33m=\u001b[0m \u001b[1;32mFalse\u001b[0m\u001b[1;33m\u001b[0m\u001b[1;33m\u001b[0m\u001b[0m\n\u001b[0;32m    427\u001b[0m     \u001b[1;32melse\u001b[0m\u001b[1;33m:\u001b[0m\u001b[1;33m\u001b[0m\u001b[1;33m\u001b[0m\u001b[0m\n\u001b[1;32m--> 428\u001b[1;33m         \u001b[0mfid\u001b[0m \u001b[1;33m=\u001b[0m \u001b[0mopen\u001b[0m\u001b[1;33m(\u001b[0m\u001b[0mos_fspath\u001b[0m\u001b[1;33m(\u001b[0m\u001b[0mfile\u001b[0m\u001b[1;33m)\u001b[0m\u001b[1;33m,\u001b[0m \u001b[1;34m\"rb\"\u001b[0m\u001b[1;33m)\u001b[0m\u001b[1;33m\u001b[0m\u001b[1;33m\u001b[0m\u001b[0m\n\u001b[0m\u001b[0;32m    429\u001b[0m         \u001b[0mown_fid\u001b[0m \u001b[1;33m=\u001b[0m \u001b[1;32mTrue\u001b[0m\u001b[1;33m\u001b[0m\u001b[1;33m\u001b[0m\u001b[0m\n\u001b[0;32m    430\u001b[0m \u001b[1;33m\u001b[0m\u001b[0m\n\n\u001b[1;31mFileNotFoundError\u001b[0m: [Errno 2] No such file or directory: 'traces/lab3_3_traces.npy'\nFileNotFoundError: [Errno 2] No such file or directory: 'traces/lab3_3_traces.npy'\n",
     "output_type": "error",
     "traceback": [
      "\u001b[1;31m---------------------------------------------------------------------------\u001b[0m"
     ]
    }
   ],
   "source": [
    "test_notebook('courses/sca101/SOLN_Lab 3_3 - DPA on Firmware Implementation of AES.ipynb', SCOPETYPE=testscope, PLATFORM=testplat, CRYPTO_TARGET=crypt,  VERSION=version)"
   ]
  },
  {
   "cell_type": "code",
   "execution_count": 21,
   "metadata": {},
   "outputs": [
    {
     "name": "stdout",
     "output_type": "stream",
     "text": [
      "\n",
      "Testing: C:\\Users\\adewar\\Code\\chipwhisperer\\jupyter\\courses\\sca101\\SOLN_Lab 4_1 - Power and Hamming Weight Relationship.ipynb:...\n",
      "with {'SCOPETYPE': 'OPENADC', 'PLATFORM': 'CWLITEARM', 'CRYPTO_TARGET': 'TINYAES128C', 'VERSION': 'SIMULATED'}.\n",
      "No serial number specified... only bad if more than one device attached.\n",
      "PASSED\n",
      "Wrote to:  C:\\Users\\adewar\\Code\\chipwhisperer\\tutorials\\SOLN_Lab 4_1 - Power and Hamming Weight Relationship-OPENADC-CWLITEARM.rst\n",
      "Wrote to:  C:\\Users\\adewar\\Code\\chipwhisperer\\tutorials\\SOLN_Lab 4_1 - Power and Hamming Weight Relationship-OPENADC-CWLITEARM.html\n"
     ]
    },
    {
     "data": {
      "text/plain": [
       "(True,\n",
       " \"\\nTesting: C:\\\\Users\\\\adewar\\\\Code\\\\chipwhisperer\\\\jupyter\\\\courses\\\\sca101\\\\SOLN_Lab 4_1 - Power and Hamming Weight Relationship.ipynb:...\\nwith {'SCOPETYPE': 'OPENADC', 'PLATFORM': 'CWLITEARM', 'CRYPTO_TARGET': 'TINYAES128C', 'VERSION': 'SIMULATED'}.\\nNo serial number specified... only bad if more than one device attached.\\nPASSED\\nWrote to:  C:\\\\Users\\\\adewar\\\\Code\\\\chipwhisperer\\\\tutorials\\\\SOLN_Lab 4_1 - Power and Hamming Weight Relationship-OPENADC-CWLITEARM.rst\\nWrote to:  C:\\\\Users\\\\adewar\\\\Code\\\\chipwhisperer\\\\tutorials\\\\SOLN_Lab 4_1 - Power and Hamming Weight Relationship-OPENADC-CWLITEARM.html\")"
      ]
     },
     "execution_count": 21,
     "metadata": {},
     "output_type": "execute_result"
    }
   ],
   "source": [
    "test_notebook('courses/sca101/SOLN_Lab 4_1 - Power and Hamming Weight Relationship.ipynb', SCOPETYPE=testscope, PLATFORM=testplat, CRYPTO_TARGET=crypt,  VERSION=version)"
   ]
  },
  {
   "cell_type": "code",
   "execution_count": 19,
   "metadata": {},
   "outputs": [
    {
     "name": "stdout",
     "output_type": "stream",
     "text": [
      "\n",
      "Testing: C:\\Users\\adewar\\Code\\chipwhisperer\\jupyter\\courses\\sca101\\SOLN_Lab 4_2 - CPA on Firmware Implementation of AES.ipynb:...\n",
      "with {'SCOPETYPE': 'OPENADC', 'PLATFORM': 'CWLITEARM', 'CRYPTO_TARGET': 'TINYAES128C', 'VERSION': 'SIMULATED'}.\n",
      "No serial number specified... only bad if more than one device attached.\n",
      "PASSED\n",
      "Wrote to:  C:\\Users\\adewar\\Code\\chipwhisperer\\tutorials\\SOLN_Lab 4_2 - CPA on Firmware Implementation of AES-OPENADC-CWLITEARM.rst\n",
      "Wrote to:  C:\\Users\\adewar\\Code\\chipwhisperer\\tutorials\\SOLN_Lab 4_2 - CPA on Firmware Implementation of AES-OPENADC-CWLITEARM.html\n"
     ]
    },
    {
     "data": {
      "text/plain": [
       "(True,\n",
       " \"\\nTesting: C:\\\\Users\\\\adewar\\\\Code\\\\chipwhisperer\\\\jupyter\\\\courses\\\\sca101\\\\SOLN_Lab 4_2 - CPA on Firmware Implementation of AES.ipynb:...\\nwith {'SCOPETYPE': 'OPENADC', 'PLATFORM': 'CWLITEARM', 'CRYPTO_TARGET': 'TINYAES128C', 'VERSION': 'SIMULATED'}.\\nNo serial number specified... only bad if more than one device attached.\\nPASSED\\nWrote to:  C:\\\\Users\\\\adewar\\\\Code\\\\chipwhisperer\\\\tutorials\\\\SOLN_Lab 4_2 - CPA on Firmware Implementation of AES-OPENADC-CWLITEARM.rst\\nWrote to:  C:\\\\Users\\\\adewar\\\\Code\\\\chipwhisperer\\\\tutorials\\\\SOLN_Lab 4_2 - CPA on Firmware Implementation of AES-OPENADC-CWLITEARM.html\")"
      ]
     },
     "execution_count": 19,
     "metadata": {},
     "output_type": "execute_result"
    }
   ],
   "source": [
    "test_notebook('courses/sca101/SOLN_Lab 4_2 - CPA on Firmware Implementation of AES.ipynb', SCOPETYPE=testscope, PLATFORM=testplat, CRYPTO_TARGET=crypt,  VERSION=version)"
   ]
  }
 ],
 "metadata": {
  "kernelspec": {
   "display_name": "Python 3",
   "language": "python",
   "name": "python3"
  },
  "language_info": {
   "codemirror_mode": {
    "name": "ipython",
    "version": 3
   },
   "file_extension": ".py",
   "mimetype": "text/x-python",
   "name": "python",
   "nbconvert_exporter": "python",
   "pygments_lexer": "ipython3",
   "version": "3.7.6"
  }
 },
 "nbformat": 4,
 "nbformat_minor": 2
}
