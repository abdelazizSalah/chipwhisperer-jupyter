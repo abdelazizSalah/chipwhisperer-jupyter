{
 "cells": [
  {
   "cell_type": "code",
   "execution_count": null,
   "metadata": {},
   "outputs": [],
   "source": [
    "import os\n",
    "from glob import glob\n",
    "import tests\n",
    "import shutil\n",
    "from tests.tutorials import test_notebook, clear_outputs_in_dir\n",
    "from functools import partial\n",
    "with tests.cd('../hardware/victims/firmware'):\n",
    "    dirs = glob('simpleserial-base-lab*')\n",
    "    dirs.extend(glob('glitch-simple-lab*'))\n",
    "    dirs.extend(glob('simpleserial-aes-lab*'))\n",
    "    for d in dirs:\n",
    "        shutil.rmtree(d)\n",
    "        \n",
    "output_dir = os.path.abspath(os.path.join('..', 'tutorials'))\n",
    "test_notebook = partial(test_notebook, allow_errors=False, output_dir=output_dir)\n",
    "\n",
    "# make sure the images are copied over for linking\n",
    "try:\n",
    "    os.mkdir(os.path.join(output_dir, 'img'))\n",
    "except FileExistsError:\n",
    "    pass\n",
    "\n",
    "for course in glob('./courses/*'):\n",
    "    for image in glob('{}/img/*'.format(course)):\n",
    "        _, image_name = os.path.split(image)\n",
    "        print(os.path.join(output_dir, 'img', image_name))\n",
    "        shutil.copyfile(image, os.path.join(output_dir, 'img', image_name))\n",
    "        \n",
    "testscope = 'CWNANO'\n",
    "testplat = 'CWNANO'\n",
    "crypt = 'TINYAES128C'\n",
    "\n",
    "version = 'HARDWARE'\n",
    "\n",
    "test_notebook('courses/sca101/SOLN_Lab 3_1 - Large Hamming Weight Swings.ipynb', SCOPETYPE=testscope, PLATFORM=testplat, CRYPTO_TARGET=crypt,  VERSION=version)\n",
    "#test_notebook('courses/sca101/SOLN_Lab 3_2 - Recovering Data from a Single Bit.ipynb', SCOPETYPE=testscope, PLATFORM=testplat, CRYPTO_TARGET=crypt,  VERSION=version)\n",
    "#print(\"Passed Lab 2_1\")\n"
   ]
  },
  {
   "cell_type": "code",
   "execution_count": 2,
   "metadata": {},
   "outputs": [],
   "source": [
    "import os\n",
    "from glob import glob\n",
    "import tests\n",
    "import shutil\n",
    "from tests.tutorials import test_notebook, clear_outputs_in_dir\n",
    "from functools import partial"
   ]
  },
  {
   "cell_type": "code",
   "execution_count": 3,
   "metadata": {},
   "outputs": [],
   "source": [
    "with tests.cd('../hardware/victims/firmware'):\n",
    "    dirs = glob('simpleserial-base-lab*')\n",
    "    dirs.extend(glob('glitch-simple-lab*'))\n",
    "    dirs.extend(glob('simpleserial-aes-lab*'))\n",
    "    for d in dirs:\n",
    "        shutil.rmtree(d)"
   ]
  },
  {
   "cell_type": "code",
   "execution_count": 4,
   "metadata": {},
   "outputs": [
    {
     "name": "stdout",
     "output_type": "stream",
     "text": [
      "Clearing ./courses/sca101/SOLN_Lab 2_1B - Power Analysis for Password Bypass.ipynb\n",
      "Clearing ./courses/sca101/SOLN_Lab 3_1 - Large Hamming Weight Swings.ipynb\n",
      "Clearing ./courses/sca101/SOLN_Lab 3_2 - Recovering Data from a Single Bit.ipynb\n",
      "Clearing ./courses/sca101/SOLN_Lab 3_3 - DPA on Firmware Implementation of AES.ipynb\n",
      "Clearing ./courses/sca101/SOLN_Lab 4_1 - Power and Hamming Weight Relationship.ipynb\n",
      "Clearing ./courses/sca101/SOLN_Lab 4_2 - CPA on Firmware Implementation of AES.ipynb\n",
      "Clearing ./courses/sca101/Lab 0 - SCA101 Setup.ipynb\n",
      "Clearing ./courses/sca101/Lab 2_1A - Instruction Power Differences (HARDWARE).ipynb\n",
      "Clearing ./courses/sca101/Lab 2_1A - Instruction Power Differences (MAIN).ipynb\n",
      "Clearing ./courses/sca101/Lab 2_1A - Instruction Power Differences (SIMULATED).ipynb\n",
      "Clearing ./courses/sca101/Lab 2_1B - Power Analysis for Password Bypass (HARDWARE).ipynb\n",
      "Clearing ./courses/sca101/Lab 2_1B - Power Analysis for Password Bypass (MAIN).ipynb\n",
      "Clearing ./courses/sca101/Lab 2_1B - Power Analysis for Password Bypass (SIMULATED).ipynb\n",
      "Clearing ./courses/sca101/Lab 3_1 - Large Hamming Weight Swings (HARDWARE).ipynb\n",
      "Clearing ./courses/sca101/Lab 3_1 - Large Hamming Weight Swings (MAIN).ipynb\n",
      "Clearing ./courses/sca101/Lab 3_1 - Large Hamming Weight Swings (SIMULATED).ipynb\n",
      "Clearing ./courses/sca101/Lab 3_2 - Recovering Data from a Single Bit.ipynb\n",
      "Clearing ./courses/sca101/Lab 3_3 - DPA on Firmware Implementation of AES (HARDWARE).ipynb\n",
      "Clearing ./courses/sca101/Lab 3_3 - DPA on Firmware Implementation of AES (MAIN).ipynb\n",
      "Clearing ./courses/sca101/Lab 3_3 - DPA on Firmware Implementation of AES (SIMULATED).ipynb\n",
      "Clearing ./courses/sca101/Lab 4_1 - Power and Hamming Weight Relationship (HARDWARE).ipynb\n",
      "Clearing ./courses/sca101/Lab 4_1 - Power and Hamming Weight Relationship (MAIN).ipynb\n",
      "Clearing ./courses/sca101/Lab 4_1 - Power and Hamming Weight Relationship (SIMULATED).ipynb\n",
      "Clearing ./courses/sca101/Lab 4_2 - CPA on Firmware Implementation of AES (HARDWARE).ipynb\n",
      "Clearing ./courses/sca101/Lab 4_2 - CPA on Firmware Implementation of AES (MAIN).ipynb\n",
      "Clearing ./courses/sca101/Lab 4_2 - CPA on Firmware Implementation of AES (SIMULATED).ipynb\n",
      "Clearing ./courses/sca101/Lab 4_3 - ChipWhisperer Analyzer CPA Attack (HARDWARE).ipynb\n",
      "Clearing ./courses/sca101/Lab 4_3 - ChipWhisperer Analyzer CPA Attack (MAIN).ipynb\n",
      "Clearing ./courses/sca101/Lab 4_3 - ChipWhisperer Analyzer CPA Attack (SIMULATED).ipynb\n",
      "Clearing ./courses/sca101/Lab 5_1 - ChipWhisperer CPA Attacks in Practice.ipynb\n",
      "Clearing ./courses/sca101/Lab 6_4 - Jittery Triggering on UART.ipynb\n"
     ]
    }
   ],
   "source": [
    "clear_outputs_in_dir(\"./courses/sca101\", kwargs={\"SCOPETYPE\": \"OPENADC\", \"PLATFORM\": \"CWLITEARM\", \"VERSION\": \"HARDWARE\"})\n",
    "clear_outputs_in_dir(\"./courses/sca101\", blacklist=r\"^SOLN.*\", kwargs={})"
   ]
  },
  {
   "cell_type": "code",
   "execution_count": 5,
   "metadata": {},
   "outputs": [
    {
     "name": "stdout",
     "output_type": "stream",
     "text": [
      "Clearing ./courses/fault101/Fault 1_1 - Introduction to Clock Glitching.ipynb\n",
      "Clearing ./courses/fault101/Fault 1_3 - Clock Glitching to Memory Dump.ipynb\n",
      "Clearing ./courses/fault101/Fault 2_1 - Introduction to Voltage Glitching.ipynb\n",
      "Clearing ./courses/fault101/Fault 2_3 - Voltage Glitching to Memory Dump.ipynb\n",
      "Clearing ./courses/fault101/SOLN_Fault 1_1 - Introduction to Clock Glitching.ipynb\n",
      "Clearing ./courses/fault101/SOLN_Fault 1_3 - Clock Glitching to Memory Dump.ipynb\n",
      "Clearing ./courses/fault101/SOLN_Fault 2_1 - Introduction to Voltage Glitching.ipynb\n",
      "Clearing ./courses/fault101/SOLN_Fault 2_3 - Voltage Glitching to Memory Dump.ipynb\n",
      "Clearing ./courses/fault101/SOLN_Fault 2_1B - Introduction to Voltage Glitching with CWNano.ipynb\n",
      "Clearing ./courses/fault101/SOLN_Fault 2_2B - Voltage Glitching with CWNano to Bypass Password.ipynb\n"
     ]
    }
   ],
   "source": [
    "clear_outputs_in_dir(\"./courses/fault101\", kwargs={\"SCOPETYPE\": \"OPENADC\", \"PLATFORM\": \"CWLITEARM\"}, blacklist=r\".*B.*\")\n",
    "clear_outputs_in_dir(\"./courses/fault101\", kwargs={\"SCOPETYPE\": \"CWNANO\", \"PLATFORM\": \"CWNANO\"}, blacklist=r\".*[0-9]_[0-9][^B].*\")"
   ]
  },
  {
   "cell_type": "code",
   "execution_count": 13,
   "metadata": {},
   "outputs": [
    {
     "name": "stdout",
     "output_type": "stream",
     "text": [
      "Clearing ./courses/sca201/SOLN_Lab 1_1A - Resychronizing Traces with Sum of Absolute Difference.ipynb\n"
     ]
    }
   ],
   "source": [
    "clear_outputs_in_dir(\"./courses/sca201\", kwargs={\"SCOPETYPE\": \"OPENADC\", \"PLATFORM\": \"CWLITEARM\"}, \\\n",
    "                     blacklist=r\"^(Lab.*)|(SOLN_Lab [2-9].*)|(Extending.*)\")"
   ]
  },
  {
   "cell_type": "code",
   "execution_count": 14,
   "metadata": {},
   "outputs": [
    {
     "name": "stdout",
     "output_type": "stream",
     "text": [
      "C:\\Users\\adewa\\Code\\chipwhisperer\\tutorials\\img\\aes_operations.png\n",
      "C:\\Users\\adewa\\Code\\chipwhisperer\\tutorials\\img\\clock_glitches.png\n",
      "C:\\Users\\adewa\\Code\\chipwhisperer\\tutorials\\img\\A9_LPC1114_CHANGES.jpg\n",
      "C:\\Users\\adewa\\Code\\chipwhisperer\\tutorials\\img\\A9_LPC_CWLITE_Conn.jpg\n",
      "C:\\Users\\adewa\\Code\\chipwhisperer\\tutorials\\img\\4traces_aes_clkx1.png\n",
      "C:\\Users\\adewa\\Code\\chipwhisperer\\tutorials\\img\\4traces_aes_clkx1_offset60000.png\n",
      "C:\\Users\\adewa\\Code\\chipwhisperer\\tutorials\\img\\4traces_aes_clkx1_presample5000.png\n",
      "C:\\Users\\adewa\\Code\\chipwhisperer\\tutorials\\img\\4traces_aes_clkx1_presample5000_zoom.png\n",
      "C:\\Users\\adewa\\Code\\chipwhisperer\\tutorials\\img\\4traces_aes_clkx4.png\n",
      "C:\\Users\\adewa\\Code\\chipwhisperer\\tutorials\\img\\4traces_aes_poortrigger.png\n",
      "C:\\Users\\adewa\\Code\\chipwhisperer\\tutorials\\img\\aesinput.png\n",
      "C:\\Users\\adewa\\Code\\chipwhisperer\\tutorials\\img\\dpa-doublepeak.png\n",
      "C:\\Users\\adewa\\Code\\chipwhisperer\\tutorials\\img\\dpa_peakexample.png\n",
      "C:\\Users\\adewa\\Code\\chipwhisperer\\tutorials\\img\\shunt_chipwhisperer.png\n",
      "C:\\Users\\adewa\\Code\\chipwhisperer\\tutorials\\img\\spa_password_diffexample.png\n",
      "C:\\Users\\adewa\\Code\\chipwhisperer\\tutorials\\img\\spa_password_h_vs_0_overview.png\n",
      "C:\\Users\\adewa\\Code\\chipwhisperer\\tutorials\\img\\spa_password_h_vs_0_zoomed.png\n",
      "C:\\Users\\adewa\\Code\\chipwhisperer\\tutorials\\img\\spa_password_list_char1.png\n",
      "C:\\Users\\adewa\\Code\\chipwhisperer\\tutorials\\img\\traces_wrong.png\n",
      "C:\\Users\\adewa\\Code\\chipwhisperer\\tutorials\\img\\uart_triggers.png\n",
      "C:\\Users\\adewa\\Code\\chipwhisperer\\tutorials\\img\\aes_operations.png\n",
      "C:\\Users\\adewa\\Code\\chipwhisperer\\tutorials\\img\\GoodVBadRef.png\n",
      "C:\\Users\\adewa\\Code\\chipwhisperer\\tutorials\\img\\Resync_traces_ref.png\n",
      "C:\\Users\\adewa\\Code\\chipwhisperer\\tutorials\\img\\stm_run1.png\n"
     ]
    }
   ],
   "source": [
    "output_dir = os.path.abspath(os.path.join('..', 'tutorials'))\n",
    "test_notebook = partial(test_notebook, allow_errors=False, output_dir=output_dir)\n",
    "\n",
    "# make sure the images are copied over for linking\n",
    "try:\n",
    "    os.mkdir(os.path.join(output_dir, 'img'))\n",
    "except FileExistsError:\n",
    "    pass\n",
    "\n",
    "for course in glob('./courses/*'):\n",
    "    for image in glob('{}/img/*'.format(course)):\n",
    "        _, image_name = os.path.split(image)\n",
    "        print(os.path.join(output_dir, 'img', image_name))\n",
    "        shutil.copyfile(image, os.path.join(output_dir, 'img', image_name))"
   ]
  },
  {
   "cell_type": "code",
   "execution_count": 15,
   "metadata": {},
   "outputs": [],
   "source": [
    "testscope = 'OPENADC'\n",
    "testplat = 'CWLITEARM'\n",
    "crypt = 'TINYAES128C'"
   ]
  },
  {
   "cell_type": "code",
   "execution_count": null,
   "metadata": {},
   "outputs": [],
   "source": [
    "testscope = 'OPENADC'\n",
    "testplat = 'CWLITEXMEGA'\n",
    "crypt = 'AVRCRYPTOLIB'"
   ]
  },
  {
   "cell_type": "code",
   "execution_count": null,
   "metadata": {},
   "outputs": [],
   "source": [
    "testscope = 'CWNANO'\n",
    "testplat = 'CWNANO'\n",
    "crypt = 'TINYAES128C'"
   ]
  },
  {
   "cell_type": "code",
   "execution_count": 30,
   "metadata": {},
   "outputs": [],
   "source": [
    "version = 'HARDWARE'"
   ]
  },
  {
   "cell_type": "code",
   "execution_count": 33,
   "metadata": {},
   "outputs": [],
   "source": [
    "version='SIMULATED'"
   ]
  },
  {
   "cell_type": "code",
   "execution_count": null,
   "metadata": {
    "scrolled": false
   },
   "outputs": [],
   "source": [
    "# Test SCA101\n",
    "#test_notebook('courses/sca101/SOLN_Lab 2_1B - Power Analysis for Password Bypass.ipynb', SCOPETYPE=testscope, PLATFORM=testplat, VERSION=version)\n",
    "print(\"Passed Lab 2_1\")\n",
    "#assert 1 == 2\n",
    "test_notebook('courses/sca101/SOLN_Lab 3_1 - Large Hamming Weight Swings.ipynb', SCOPETYPE=testscope, PLATFORM=testplat, CRYPTO_TARGET=crypt,  VERSION=version)\n",
    "print(\"Passed Lab 3_1\")\n",
    "\n",
    "test_notebook('courses/sca101/SOLN_Lab 3_2 - Recovering Data from a Single Bit.ipynb', SCOPETYPE=testscope, PLATFORM=testplat, CRYPTO_TARGET=crypt,  VERSION=version)\n",
    "print(\"Passed Lab 3_2\")\n",
    "\n",
    "#test_notebook('courses/sca101/SOLN_Lab 3_3 - DPA on Firmware Implementation of AES.ipynb', SCOPETYPE=testscope, PLATFORM=testplat, CRYPTO_TARGET=crypt,  VERSION=version)\n",
    "print(\"Passed Lab 3_3\")\n",
    "\n",
    "test_notebook('courses/sca101/SOLN_Lab 4_1 - Power and Hamming Weight Relationship.ipynb', SCOPETYPE=testscope, PLATFORM=testplat, CRYPTO_TARGET=crypt,  VERSION=version)\n",
    "print(\"Passed Lab 4_1\")\n",
    "\n",
    "test_notebook('courses/sca101/SOLN_Lab 4_2 - CPA on Firmware Implementation of AES.ipynb', SCOPETYPE=testscope, PLATFORM=testplat, CRYPTO_TARGET=crypt,  VERSION=version)\n",
    "print(\"Passed Lab 4_2\")\n",
    "\n",
    "#can't test\n",
    "#test_notebook('courses/sca101/Lab 4_3 - ChipWhisperer Analyzer CPA Attack (MAIN).ipynb', SCOPETYPE=testscope, PLATFORM=testplat, CRYPTO_TARGET=crypt,  VERSION=version)\n",
    "#print(\"Passed Lab 4_3\")"
   ]
  },
  {
   "cell_type": "code",
   "execution_count": null,
   "metadata": {},
   "outputs": [],
   "source": [
    "test_notebook('courses/sca101/SOLN_Lab 4_2 - CPA on Firmware Implementation of AES.ipynb', SCOPETYPE=testscope, PLATFORM=testplat, CRYPTO_TARGET=crypt,  VERSION=version)\n",
    "print(\"Passed Lab 4_2\")"
   ]
  },
  {
   "cell_type": "code",
   "execution_count": null,
   "metadata": {},
   "outputs": [],
   "source": [
    "test_notebook('courses/sca101/SOLN_Lab 3_3 - DPA on Firmware Implementation of AES.ipynb', SCOPETYPE=testscope, PLATFORM=testplat, CRYPTO_TARGET=crypt,  VERSION=version)"
   ]
  },
  {
   "cell_type": "code",
   "execution_count": null,
   "metadata": {},
   "outputs": [],
   "source": [
    "#test_notebook('courses/fault101/SOLN_Fault 1_1 - Introduction to Clock Glitching.ipynb', SCOPETYPE=testscope, PLATFORM=testplat)\n",
    "#test_notebook('courses/fault101/SOLN_Fault 1_2 - Clock Glitching to Bypass Password.ipynb', SCOPETYPE=testscope, PLATFORM=testplat)\n",
    "#test_notebook('courses/fault101/SOLN_Fault 1_3 - Clock Glitching to Memory Dump.ipynb', SCOPETYPE=testscope, PLATFORM=testplat)\n",
    "#test_notebook('courses/fault101/SOLN_Fault 2_1 - Introduction to Voltage Glitching.ipynb', SCOPETYPE=testscope, PLATFORM=testplat)\n",
    "test_notebook('courses/fault101/SOLN_Fault 2_2 - Voltage Glitching to Bypass Password.ipynb', SCOPETYPE=testscope, PLATFORM=testplat)\n",
    "#test_notebook('courses/fault101/SOLN_Fault 2_3 - Voltage Glitching to Memory Dump.ipynb', SCOPETYPE=testscope, PLATFORM=testplat)"
   ]
  },
  {
   "cell_type": "code",
   "execution_count": null,
   "metadata": {},
   "outputs": [],
   "source": [
    "test_notebook('courses/fault101/SOLN_Fault 2_1B - Introduction to Voltage Glitching with CWNano.ipynb', SCOPETYPE=testscope, PLATFORM=testplat)"
   ]
  },
  {
   "cell_type": "code",
   "execution_count": null,
   "metadata": {},
   "outputs": [],
   "source": [
    "test_notebook('courses/fault101/SOLN_Fault 2_2B - Voltage Glitching with CWNano to Bypass Password.ipynb', SCOPETYPE=testscope, PLATFORM=testplat)"
   ]
  },
  {
   "cell_type": "code",
   "execution_count": 35,
   "metadata": {},
   "outputs": [
    {
     "name": "stdout",
     "output_type": "stream",
     "text": [
      "\n",
      "Testing: C:\\Users\\adewa\\Code\\chipwhisperer\\jupyter\\courses\\sca201\\SOLN_Lab 1_1A - Resychronizing Traces with Sum of Absolute Difference.ipynb:...\n",
      "with {'SCOPETYPE': 'OPENADC', 'PLATFORM': 'CWLITEARM', 'VERSION': 'SIMULATED'}.\n",
      "No serial number specified... only bad if more than one device attached.\n",
      "PASSED\n",
      "writing to  img/OPENADC-CWLITEARM-courses_sca201_SOLN_Lab1_1A-ResychronizingTraceswithSumofAbsoluteDifference_7_0.png\n",
      "writing to  img/OPENADC-CWLITEARM-courses_sca201_SOLN_Lab1_1A-ResychronizingTraceswithSumofAbsoluteDifference_15_0.png\n",
      "writing to  img/OPENADC-CWLITEARM-courses_sca201_SOLN_Lab1_1A-ResychronizingTraceswithSumofAbsoluteDifference_16_0.png\n",
      "writing to  img/OPENADC-CWLITEARM-courses_sca201_SOLN_Lab1_1A-ResychronizingTraceswithSumofAbsoluteDifference_18_1.png\n",
      "writing to  img/OPENADC-CWLITEARM-courses_sca201_SOLN_Lab1_1A-ResychronizingTraceswithSumofAbsoluteDifference_21_1.png\n",
      "writing to  img/OPENADC-CWLITEARM-courses_sca201_SOLN_Lab1_1A-ResychronizingTraceswithSumofAbsoluteDifference_23_1.png\n",
      "writing to  img/OPENADC-CWLITEARM-courses_sca201_SOLN_Lab1_1A-ResychronizingTraceswithSumofAbsoluteDifference_27_0.png\n",
      "writing to  img/OPENADC-CWLITEARM-courses_sca201_SOLN_Lab1_1A-ResychronizingTraceswithSumofAbsoluteDifference_38_0.png\n",
      "Wrote to:  C:\\Users\\adewa\\Code\\chipwhisperer\\tutorials\\courses_sca201_SOLN_Lab 1_1A - Resychronizing Traces with Sum of Absolute Difference-OPENADC-CWLITEARM.rst\n",
      "Wrote to:  C:\\Users\\adewa\\Code\\chipwhisperer\\tutorials\\courses_sca201_SOLN_Lab 1_1A - Resychronizing Traces with Sum of Absolute Difference-OPENADC-CWLITEARM.html\n"
     ]
    },
    {
     "data": {
      "text/plain": [
       "(True,\n",
       " \"\\nTesting: C:\\\\Users\\\\adewa\\\\Code\\\\chipwhisperer\\\\jupyter\\\\courses\\\\sca201\\\\SOLN_Lab 1_1A - Resychronizing Traces with Sum of Absolute Difference.ipynb:...\\nwith {'SCOPETYPE': 'OPENADC', 'PLATFORM': 'CWLITEARM', 'VERSION': 'SIMULATED'}.\\nNo serial number specified... only bad if more than one device attached.\\nPASSED\\nwriting to  img/OPENADC-CWLITEARM-courses_sca201_SOLN_Lab1_1A-ResychronizingTraceswithSumofAbsoluteDifference_7_0.png\\nwriting to  img/OPENADC-CWLITEARM-courses_sca201_SOLN_Lab1_1A-ResychronizingTraceswithSumofAbsoluteDifference_15_0.png\\nwriting to  img/OPENADC-CWLITEARM-courses_sca201_SOLN_Lab1_1A-ResychronizingTraceswithSumofAbsoluteDifference_16_0.png\\nwriting to  img/OPENADC-CWLITEARM-courses_sca201_SOLN_Lab1_1A-ResychronizingTraceswithSumofAbsoluteDifference_18_1.png\\nwriting to  img/OPENADC-CWLITEARM-courses_sca201_SOLN_Lab1_1A-ResychronizingTraceswithSumofAbsoluteDifference_21_1.png\\nwriting to  img/OPENADC-CWLITEARM-courses_sca201_SOLN_Lab1_1A-ResychronizingTraceswithSumofAbsoluteDifference_23_1.png\\nwriting to  img/OPENADC-CWLITEARM-courses_sca201_SOLN_Lab1_1A-ResychronizingTraceswithSumofAbsoluteDifference_27_0.png\\nwriting to  img/OPENADC-CWLITEARM-courses_sca201_SOLN_Lab1_1A-ResychronizingTraceswithSumofAbsoluteDifference_38_0.png\\nWrote to:  C:\\\\Users\\\\adewa\\\\Code\\\\chipwhisperer\\\\tutorials\\\\courses_sca201_SOLN_Lab 1_1A - Resychronizing Traces with Sum of Absolute Difference-OPENADC-CWLITEARM.rst\\nWrote to:  C:\\\\Users\\\\adewa\\\\Code\\\\chipwhisperer\\\\tutorials\\\\courses_sca201_SOLN_Lab 1_1A - Resychronizing Traces with Sum of Absolute Difference-OPENADC-CWLITEARM.html\")"
      ]
     },
     "execution_count": 35,
     "metadata": {},
     "output_type": "execute_result"
    }
   ],
   "source": [
    "test_notebook('courses/sca201/SOLN_Lab 1_1A - Resychronizing Traces with Sum of Absolute Difference.ipynb', SCOPETYPE=testscope, PLATFORM=testplat, VERSION=version)"
   ]
  }
 ],
 "metadata": {
  "kernelspec": {
   "display_name": "Python 3",
   "language": "python",
   "name": "python3"
  },
  "language_info": {
   "codemirror_mode": {
    "name": "ipython",
    "version": 3
   },
   "file_extension": ".py",
   "mimetype": "text/x-python",
   "name": "python",
   "nbconvert_exporter": "python",
   "pygments_lexer": "ipython3",
   "version": "3.7.7"
  }
 },
 "nbformat": 4,
 "nbformat_minor": 2
}
