{
 "cells": [
  {
   "cell_type": "code",
   "execution_count": null,
   "id": "0666783d",
   "metadata": {},
   "outputs": [],
   "source": [
    "import os\n",
    "import chipwhisperer as cw\n",
    "import time\n",
    "\n",
    "\n",
    "scope = cw.scope()\n",
    "os.environ[\"HUSKY_HW_LOC\"] = str(scope._getNAEUSB().hw_location())\n",
    "os.environ[\"HUSKY_TARGET_PLATFORM\"] = \"stm32f3\"\n",
    "scope.default_setup()\n",
    "time.sleep(0.5)\n",
    "cw.program_target(scope, cw.programmers.STM32FProgrammer, \"../../hardware/victims/firmware/simpleserial-trace/simpleserial-trace-CW308_STM32F3.hex\")\n",
    "scope.dis()"
   ]
  },
  {
   "cell_type": "code",
   "execution_count": null,
   "id": "7f0e1273",
   "metadata": {
    "scrolled": false
   },
   "outputs": [],
   "source": [
    "import subprocess, sys, os\n",
    "\n",
    "commands = \"pytest -rs ../../tests/test_husky.py -k\".split(\" \")\n",
    "commands.append(\"not trace\")\n",
    "print(commands)\n",
    "os.environ[\"HUSKY_TARGET_PLATFORM\"] = \"stm32\"\n",
    "x = None\n",
    "def parse_pytest(stdout):\n",
    "    s = stdout.replace(\"\\r\", \"\")\n",
    "    if (\"ERRORS\") in s:\n",
    "        return s\n",
    "    summary, fails = s.split(\"FAILURES ===================================\")\n",
    "    return fails.split(\"=========================== short test summary info ===========================\")[0]\n",
    "    \n",
    "try:\n",
    "    x = subprocess.run(commands, check=True, capture_output=True, env=os.environ, timeout=600)\n",
    "    #print(x.stderr.decode())\n",
    "    print(\"All tests passed\")\n",
    "except Exception as y:\n",
    "    x = y\n",
    "    print(parse_pytest(x.stdout.decode()))\n",
    "    raise\n"
   ]
  },
  {
   "cell_type": "code",
   "execution_count": null,
   "id": "6f10e727",
   "metadata": {},
   "outputs": [],
   "source": [
    "print(x.stdout.decode())"
   ]
  }
 ],
 "metadata": {
  "kernelspec": {
   "display_name": "Python 3 (ipykernel)",
   "language": "python",
   "name": "python3"
  },
  "language_info": {
   "codemirror_mode": {
    "name": "ipython",
    "version": 3
   },
   "file_extension": ".py",
   "mimetype": "text/x-python",
   "name": "python",
   "nbconvert_exporter": "python",
   "pygments_lexer": "ipython3",
   "version": "3.10.5"
  }
 },
 "nbformat": 4,
 "nbformat_minor": 5
}
