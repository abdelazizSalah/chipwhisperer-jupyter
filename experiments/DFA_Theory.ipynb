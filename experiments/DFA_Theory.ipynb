{
 "cells": [
  {
   "cell_type": "markdown",
   "metadata": {},
   "source": [
    "# DFA_Theory\n",
    "\n",
    "**SUMMARY:** *Fault attacks aren't limited to breaking past password checks and breaking bootloaders. In this lab, we'll look at how we can recover and AES key by inserting faults near the end of the encryption operation. In the next lab, we'll use this knowledge to actually recover an AES key from a device running TINYAES128C*\n",
    "\n",
    "##  A quick overview of AES\n",
    "\n",
    "AES is a symmetric (meaning it uses the same key for encryption and decryption) encryption algorithm that uses\n",
    "\n"
   ]
  },
  {
   "cell_type": "markdown",
   "metadata": {},
   "source": [
    "## \n",
    "\n",
    "After that analysis, we are left with a system of equations:\n",
    "\n",
    "$$O_0 + O_0^\\prime = S(Y_0) + S(2Z + Y_0) \\\\\n",
    "O_7 + O_7^\\prime = S(Y_1) + S(3Z + Y_1) \\\\\n",
    "O_{10} + O_{10}^\\prime = S(Y_2) + S(Z + Y_2) \\\\\n",
    "O_{13} + O_{13}^\\prime = S(Y_3) + S(2Z + Y_3) \\\\\n",
    "$$\n",
    "\n",
    "This a non-linear system of equations with multiple solutions, so it's going to be much easier to just brute force it -  aka try every possible Z, Y_0, Y_1, Y_2, and Y_3 value in these equations, taking only the ones that work for all the equations. You can make this much faster by short circuiting - as soon as it fails one of these equations, there's no need to continue on from that point. For example, if you're going through the equations in the above sequence and the second one fails, there's no need to continue on with Y_2 and Y_3 for that particular combination of Z, Y_0, and Y_1.\n",
    "\n",
    "At the end, you should have a list of combinations of Z, Y_0, Y_1, Y_2, and Y_3 that work for these equations. We can eliminate most (typically all) of the rest of the incorrect guesses by inserting a new fault in byte 0 with the same plaintext. This will leave Y_0, Y_1, Y_2, Y_3, and O_0 the same, but changes Z and O_0. Using this fact, we can insert a new fault and narrow down our set of Y_0, Y_1, Y_2, and Y_3. In fact, we only need that one additional fault to get down to a single guess!"
   ]
  },
  {
   "cell_type": "code",
   "execution_count": 384,
   "metadata": {},
   "outputs": [],
   "source": [
    "def generate_glitch(pt, cipher):\n",
    "    state = list(pt)\n",
    "    state = state+[16-len(state)]*(16-len(state))\n",
    "    cipher._add_round_key(state, 0)\n",
    "    for i in range(1, 9):\n",
    "        cipher._sub_bytes(state)\n",
    "        cipher._shift_rows(state)\n",
    "        cipher._mix_columns(state, False)\n",
    "        cipher._add_round_key(state, i)\n",
    "    cipher._sub_bytes(state)\n",
    "    cipher._shift_rows(state)\n",
    "\n",
    "    x = list(state)\n",
    "    cipher._mix_columns(x, False)\n",
    "    cipher._add_round_key(x, 9)\n",
    "    cipher._sub_bytes(x)\n",
    "    cipher._shift_rows(x)\n",
    "    cipher._add_round_key(x, 10)\n",
    "\n",
    "    import random\n",
    "    random.seed()\n",
    "    fault = random.getrandbits(8)\n",
    "    state[0] = fault\n",
    "\n",
    "    cipher._mix_columns(state, False)\n",
    "    cipher._add_round_key(state, 9)\n",
    "    cipher._sub_bytes(state)\n",
    "    cipher._shift_rows(state)\n",
    "    cipher._add_round_key(state, 10)\n",
    "    return state, x\n",
    "\n",
    "from tqdm.notebook import trange\n",
    "def get_Y_guesses(state, x):    \n",
    "    def check_Y(Z, Yn, n):\n",
    "        lookup = [0, 7, 10, 13]\n",
    "        lhs = state[lookup[n]] ^ x[lookup[n]]\n",
    "        coeff = [2, 3, 1, 1]\n",
    "        rhs = aes_tables.sbox[Yn] ^ aes_tables.sbox[((Z*coeff[n])&0xFF) ^ Yn]\n",
    "        return lhs == rhs\n",
    "    guesses = []\n",
    "    \n",
    "    for Z in trange(255):\n",
    "        for Y0 in range(255):\n",
    "            if check_Y(Z, Y0, 0):\n",
    "                for Y1 in range(255):\n",
    "                    if check_Y(Z, Y1, 1):\n",
    "                        for Y2 in range(255):\n",
    "                            if check_Y(Z, Y2, 2):\n",
    "                                for Y3 in range(255):\n",
    "                                    if check_Y(Z, Y3, 3):\n",
    "                                        guesses.append((Y0, Y1, Y2, Y3))\n",
    "    return guesses\n",
    "    \n",
    "def update_Y_guesses(Y_old, Y_new):\n",
    "    updated_Y = []\n",
    "    for Ys in Y_old:\n",
    "        if Ys in Y_new:\n",
    "            updated_Y.append(Ys)\n",
    "    return updated_Y\n",
    "\n",
    "def Y_to_key(x, Y):\n",
    "    return aes_tables.sbox[Y] ^ x"
   ]
  },
  {
   "cell_type": "code",
   "execution_count": 385,
   "metadata": {},
   "outputs": [
    {
     "name": "stdout",
     "output_type": "stream",
     "text": [
      "CWbytearray(b'09 bc a9 cb 2f 1a 9f 19 1d 86 bd b9 e1 b9 34 ba') CWbytearray(b'10 bc a9 cb 2f 1a 9f 0b 1d 86 fd b9 e1 a6 34 ba')\n"
     ]
    }
   ],
   "source": [
    "pt = ktp.next()[1]\n",
    "state, x = generate_glitch(pt, cipher)\n",
    "print(bytearray(state), bytearray(x))"
   ]
  },
  {
   "cell_type": "code",
   "execution_count": 386,
   "metadata": {},
   "outputs": [
    {
     "data": {
      "application/vnd.jupyter.widget-view+json": {
       "model_id": "fef4722c34844574a39624105dc206fe",
       "version_major": 2,
       "version_minor": 0
      },
      "text/plain": [
       "HBox(children=(FloatProgress(value=0.0, max=255.0), HTML(value='')))"
      ]
     },
     "metadata": {},
     "output_type": "display_data"
    },
    {
     "name": "stdout",
     "output_type": "stream",
     "text": [
      "\n",
      "[(35, 32, 41, 129), (35, 32, 41, 130), (35, 32, 42, 129), (35, 32, 42, 130), (35, 41, 41, 129), (35, 41, 41, 130), (35, 41, 42, 129), (35, 41, 42, 130), (37, 32, 41, 129), (37, 32, 41, 130), (37, 32, 42, 129), (37, 32, 42, 130), (37, 41, 41, 129), (37, 41, 41, 130), (37, 41, 42, 129), (37, 41, 42, 130), (155, 8, 128, 215), (155, 8, 128, 227), (155, 8, 180, 215), (155, 8, 180, 227), (155, 148, 128, 215), (155, 148, 128, 227), (155, 148, 180, 215), (155, 148, 180, 227), (243, 8, 128, 215), (243, 8, 128, 227), (243, 8, 180, 215), (243, 8, 180, 227), (243, 148, 128, 215), (243, 148, 128, 227), (243, 148, 180, 215), (243, 148, 180, 227), (50, 107, 6, 22), (50, 107, 6, 94), (50, 107, 78, 22), (50, 107, 78, 94), (50, 179, 6, 22), (50, 179, 6, 94), (50, 179, 78, 22), (50, 179, 78, 94), (162, 107, 6, 22), (162, 107, 6, 94), (162, 107, 78, 22), (162, 107, 78, 94), (162, 179, 6, 22), (162, 179, 6, 94), (162, 179, 78, 22), (162, 179, 78, 94), (7, 25, 3, 172), (7, 25, 3, 230), (7, 25, 73, 172), (7, 25, 73, 230), (7, 199, 3, 172), (7, 199, 3, 230), (7, 199, 73, 172), (7, 199, 73, 230), (147, 25, 3, 172), (147, 25, 3, 230), (147, 25, 73, 172), (147, 25, 73, 230), (147, 199, 3, 172), (147, 199, 3, 230), (147, 199, 73, 172), (147, 199, 73, 230), (67, 101, 24, 61), (67, 101, 24, 118), (67, 101, 83, 61), (67, 101, 83, 118), (67, 132, 24, 61), (67, 132, 24, 118), (67, 132, 83, 61), (67, 132, 83, 118), (213, 101, 24, 61), (213, 101, 24, 118), (213, 101, 83, 61), (213, 101, 83, 118), (213, 132, 24, 61), (213, 132, 24, 118), (213, 132, 83, 61), (213, 132, 83, 118), (101, 61, 145, 149), (101, 61, 145, 217), (101, 61, 221, 149), (101, 61, 221, 217), (101, 217, 145, 149), (101, 217, 145, 217), (101, 217, 221, 149), (101, 217, 221, 217), (253, 61, 145, 149), (253, 61, 145, 217), (253, 61, 221, 149), (253, 61, 221, 217), (253, 217, 145, 149), (253, 217, 145, 217), (253, 217, 221, 149), (253, 217, 221, 217), (32, 65, 132, 32), (32, 65, 132, 111), (32, 65, 203, 32), (32, 65, 203, 111), (32, 172, 132, 32), (32, 172, 132, 111), (32, 172, 203, 32), (32, 172, 203, 111), (190, 65, 132, 32), (190, 65, 132, 111), (190, 65, 203, 32), (190, 65, 203, 111), (190, 172, 132, 32), (190, 172, 132, 111), (190, 172, 203, 32), (190, 172, 203, 111), (107, 100, 183, 178), (107, 100, 183, 238), (107, 100, 235, 178), (107, 100, 235, 238), (107, 112, 183, 178), (107, 112, 183, 238), (107, 112, 235, 178), (107, 112, 235, 238), (211, 100, 183, 178), (211, 100, 183, 238), (211, 100, 235, 178), (211, 100, 235, 238), (211, 112, 183, 178), (211, 112, 183, 238), (211, 112, 235, 178), (211, 112, 235, 238), (116, 47, 135, 28), (116, 47, 135, 65), (116, 47, 218, 28), (116, 47, 218, 65), (116, 56, 135, 28), (116, 56, 135, 65), (116, 56, 218, 28), (116, 56, 218, 65), (206, 47, 135, 28), (206, 47, 135, 65), (206, 47, 218, 28), (206, 47, 218, 65), (206, 56, 135, 28), (206, 56, 135, 65), (206, 56, 218, 28), (206, 56, 218, 65), (40, 220, 146, 44), (40, 220, 146, 69), (40, 220, 251, 44), (40, 220, 251, 69), (40, 231, 146, 44), (40, 231, 146, 69), (40, 231, 251, 44), (40, 231, 251, 69), (250, 220, 146, 44), (250, 220, 146, 69), (250, 220, 251, 44), (250, 220, 251, 69), (250, 231, 146, 44), (250, 231, 146, 69), (250, 231, 251, 44), (250, 231, 251, 69), (80, 70, 69, 60), (80, 70, 69, 186), (80, 70, 195, 60), (80, 70, 195, 186), (80, 212, 69, 60), (80, 212, 69, 186), (80, 212, 195, 60), (80, 212, 195, 186), (92, 70, 69, 60), (92, 70, 69, 186), (92, 70, 195, 60), (92, 70, 195, 186), (92, 212, 69, 60), (92, 212, 69, 186), (92, 212, 195, 60), (92, 212, 195, 186), (27, 196, 100, 92), (27, 196, 100, 237), (27, 196, 213, 92), (27, 196, 213, 237), (27, 215, 100, 92), (27, 215, 100, 237), (27, 215, 213, 92), (27, 215, 213, 237), (121, 196, 100, 92), (121, 196, 100, 237), (121, 196, 213, 92), (121, 196, 213, 237), (121, 215, 100, 92), (121, 215, 100, 237), (121, 215, 213, 92), (121, 215, 213, 237), (150, 106, 105, 43), (150, 106, 105, 153), (150, 106, 219, 43), (150, 106, 219, 153), (150, 124, 105, 43), (150, 124, 105, 153), (150, 124, 219, 43), (150, 124, 219, 153), (242, 106, 105, 43), (242, 106, 105, 153), (242, 106, 219, 43), (242, 106, 219, 153), (242, 124, 105, 43), (242, 124, 105, 153), (242, 124, 219, 43), (242, 124, 219, 153), (46, 55, 18, 9), (46, 55, 18, 233), (46, 55, 242, 9), (46, 55, 242, 233), (46, 151, 18, 9), (46, 151, 18, 233), (46, 151, 242, 9), (46, 151, 242, 233), (238, 55, 18, 9), (238, 55, 18, 233), (238, 55, 242, 9), (238, 55, 242, 233), (238, 151, 18, 9), (238, 151, 18, 233), (238, 151, 242, 9), (238, 151, 242, 233), (40, 39, 102, 41), (40, 39, 102, 192), (40, 39, 143, 41), (40, 39, 143, 192), (40, 156, 102, 41), (40, 156, 102, 192), (40, 156, 143, 41), (40, 156, 143, 192), (250, 39, 102, 41), (250, 39, 102, 192), (250, 39, 143, 41), (250, 39, 143, 192), (250, 156, 102, 41), (250, 156, 102, 192), (250, 156, 143, 41), (250, 156, 143, 192), (61, 103, 96, 114), (61, 103, 96, 132), (61, 103, 150, 114), (61, 103, 150, 132), (61, 133, 96, 114), (61, 133, 96, 132), (61, 133, 150, 114), (61, 133, 150, 132), (209, 103, 96, 114), (209, 103, 96, 132), (209, 103, 150, 114), (209, 103, 150, 132), (209, 133, 96, 114), (209, 133, 96, 132), (209, 133, 150, 114), (209, 133, 150, 132), (23, 28, 25, 108), (23, 28, 25, 146), (23, 28, 231, 108), (23, 28, 231, 146), (23, 230, 25, 108), (23, 230, 25, 146), (23, 230, 231, 108), (23, 230, 231, 146), (235, 28, 25, 108), (235, 28, 25, 146), (235, 28, 231, 108), (235, 28, 231, 146), (235, 230, 25, 108), (235, 230, 25, 146), (235, 230, 231, 108), (235, 230, 231, 146)]\n"
     ]
    }
   ],
   "source": [
    "Y_guesses = get_Y_guesses(state, x)\n",
    "print(Y_guesses)"
   ]
  },
  {
   "cell_type": "code",
   "execution_count": 387,
   "metadata": {},
   "outputs": [
    {
     "name": "stdout",
     "output_type": "stream",
     "text": [
      "CWbytearray(b'36 bc a9 cb 2f 1a 9f 90 1d 86 54 b9 e1 23 34 ba') CWbytearray(b'10 bc a9 cb 2f 1a 9f 0b 1d 86 fd b9 e1 a6 34 ba')\n"
     ]
    },
    {
     "data": {
      "application/vnd.jupyter.widget-view+json": {
       "model_id": "564e4b4373284862944a58cab97b9361",
       "version_major": 2,
       "version_minor": 0
      },
      "text/plain": [
       "HBox(children=(FloatProgress(value=0.0, max=255.0), HTML(value='')))"
      ]
     },
     "metadata": {},
     "output_type": "display_data"
    },
    {
     "name": "stdout",
     "output_type": "stream",
     "text": [
      "\n",
      "[]\n"
     ]
    },
    {
     "ename": "IndexError",
     "evalue": "list index out of range",
     "output_type": "error",
     "traceback": [
      "\u001b[1;31m---------------------------------------------------------------------------\u001b[0m",
      "\u001b[1;31mIndexError\u001b[0m                                Traceback (most recent call last)",
      "\u001b[1;32m<ipython-input-387-ae37c895e428>\u001b[0m in \u001b[0;36m<module>\u001b[1;34m\u001b[0m\n\u001b[0;32m      3\u001b[0m \u001b[0mY_guesses\u001b[0m \u001b[1;33m=\u001b[0m \u001b[0mupdate_Y_guesses\u001b[0m\u001b[1;33m(\u001b[0m\u001b[0mY_guesses\u001b[0m\u001b[1;33m,\u001b[0m \u001b[0mget_Y_guesses\u001b[0m\u001b[1;33m(\u001b[0m\u001b[0mstate\u001b[0m\u001b[1;33m,\u001b[0m \u001b[0mx\u001b[0m\u001b[1;33m)\u001b[0m\u001b[1;33m)\u001b[0m\u001b[1;33m\u001b[0m\u001b[1;33m\u001b[0m\u001b[0m\n\u001b[0;32m      4\u001b[0m \u001b[0mprint\u001b[0m\u001b[1;33m(\u001b[0m\u001b[0mY_guesses\u001b[0m\u001b[1;33m)\u001b[0m\u001b[1;33m\u001b[0m\u001b[1;33m\u001b[0m\u001b[0m\n\u001b[1;32m----> 5\u001b[1;33m \u001b[0mprint\u001b[0m\u001b[1;33m(\u001b[0m\u001b[0mbytearray\u001b[0m\u001b[1;33m(\u001b[0m\u001b[0mY_to_key\u001b[0m\u001b[1;33m(\u001b[0m\u001b[0mx\u001b[0m\u001b[1;33m,\u001b[0m \u001b[0mY_guesses\u001b[0m\u001b[1;33m[\u001b[0m\u001b[1;36m0\u001b[0m\u001b[1;33m]\u001b[0m\u001b[1;33m,\u001b[0m \u001b[0mn\u001b[0m\u001b[1;33m)\u001b[0m\u001b[1;33m)\u001b[0m\u001b[1;33m)\u001b[0m\u001b[1;33m\u001b[0m\u001b[1;33m\u001b[0m\u001b[0m\n\u001b[0m",
      "\u001b[1;31mIndexError\u001b[0m: list index out of range"
     ]
    }
   ],
   "source": [
    "state, x = generate_glitch(pt, cipher)\n",
    "print(bytearray(state), bytearray(x))\n",
    "Y_guesses = update_Y_guesses(Y_guesses, get_Y_guesses(state, x))\n",
    "print(Y_guesses)\n",
    "print(bytearray(Y_to_key(x, Y_guesses[0], n)))\n"
   ]
  },
  {
   "cell_type": "code",
   "execution_count": null,
   "metadata": {},
   "outputs": [],
   "source": []
  },
  {
   "cell_type": "code",
   "execution_count": null,
   "metadata": {},
   "outputs": [],
   "source": [
    "K0 = "
   ]
  },
  {
   "cell_type": "code",
   "execution_count": null,
   "metadata": {},
   "outputs": [],
   "source": []
  },
  {
   "cell_type": "code",
   "execution_count": null,
   "metadata": {},
   "outputs": [],
   "source": []
  },
  {
   "cell_type": "code",
   "execution_count": 65,
   "metadata": {},
   "outputs": [],
   "source": [
    "from chipwhisperer.common.utils.aes_cipher import AESCipher, aes_tables\n",
    "import chipwhisperer.analyzer as cwa"
   ]
  },
  {
   "cell_type": "code",
   "execution_count": 5,
   "metadata": {},
   "outputs": [],
   "source": [
    "import chipwhisperer as cw\n",
    "ktp = cw.ktp.Basic()\n",
    "key = list(ktp.next()[0])\n",
    "for i in range(10):\n",
    "    key.extend(cwa.aes_funcs.key_schedule_rounds(key[0:16], 0, i+1))"
   ]
  },
  {
   "cell_type": "code",
   "execution_count": 6,
   "metadata": {},
   "outputs": [
    {
     "data": {
      "text/plain": [
       "[43,\n",
       " 126,\n",
       " 21,\n",
       " 22,\n",
       " 40,\n",
       " 174,\n",
       " 210,\n",
       " 166,\n",
       " 171,\n",
       " 247,\n",
       " 21,\n",
       " 136,\n",
       " 9,\n",
       " 207,\n",
       " 79,\n",
       " 60,\n",
       " 160,\n",
       " 250,\n",
       " 254,\n",
       " 23,\n",
       " 136,\n",
       " 84,\n",
       " 44,\n",
       " 177,\n",
       " 35,\n",
       " 163,\n",
       " 57,\n",
       " 57,\n",
       " 42,\n",
       " 108,\n",
       " 118,\n",
       " 5,\n",
       " 242,\n",
       " 194,\n",
       " 149,\n",
       " 242,\n",
       " 122,\n",
       " 150,\n",
       " 185,\n",
       " 67,\n",
       " 89,\n",
       " 53,\n",
       " 128,\n",
       " 122,\n",
       " 115,\n",
       " 89,\n",
       " 246,\n",
       " 127,\n",
       " 61,\n",
       " 128,\n",
       " 71,\n",
       " 125,\n",
       " 71,\n",
       " 22,\n",
       " 254,\n",
       " 62,\n",
       " 30,\n",
       " 35,\n",
       " 126,\n",
       " 68,\n",
       " 109,\n",
       " 122,\n",
       " 136,\n",
       " 59,\n",
       " 239,\n",
       " 68,\n",
       " 165,\n",
       " 65,\n",
       " 168,\n",
       " 82,\n",
       " 91,\n",
       " 127,\n",
       " 182,\n",
       " 113,\n",
       " 37,\n",
       " 59,\n",
       " 219,\n",
       " 11,\n",
       " 173,\n",
       " 0,\n",
       " 212,\n",
       " 209,\n",
       " 198,\n",
       " 248,\n",
       " 124,\n",
       " 131,\n",
       " 157,\n",
       " 135,\n",
       " 202,\n",
       " 242,\n",
       " 184,\n",
       " 188,\n",
       " 17,\n",
       " 249,\n",
       " 21,\n",
       " 188,\n",
       " 109,\n",
       " 136,\n",
       " 163,\n",
       " 122,\n",
       " 17,\n",
       " 11,\n",
       " 62,\n",
       " 253,\n",
       " 219,\n",
       " 249,\n",
       " 134,\n",
       " 65,\n",
       " 202,\n",
       " 0,\n",
       " 147,\n",
       " 253,\n",
       " 78,\n",
       " 84,\n",
       " 247,\n",
       " 14,\n",
       " 95,\n",
       " 95,\n",
       " 201,\n",
       " 243,\n",
       " 132,\n",
       " 166,\n",
       " 79,\n",
       " 178,\n",
       " 78,\n",
       " 166,\n",
       " 220,\n",
       " 79,\n",
       " 234,\n",
       " 210,\n",
       " 115,\n",
       " 33,\n",
       " 181,\n",
       " 141,\n",
       " 186,\n",
       " 210,\n",
       " 49,\n",
       " 43,\n",
       " 245,\n",
       " 96,\n",
       " 127,\n",
       " 141,\n",
       " 41,\n",
       " 47,\n",
       " 172,\n",
       " 119,\n",
       " 102,\n",
       " 243,\n",
       " 25,\n",
       " 250,\n",
       " 220,\n",
       " 33,\n",
       " 40,\n",
       " 209,\n",
       " 41,\n",
       " 65,\n",
       " 87,\n",
       " 92,\n",
       " 0,\n",
       " 110,\n",
       " 208,\n",
       " 20,\n",
       " 249,\n",
       " 168,\n",
       " 201,\n",
       " 238,\n",
       " 37,\n",
       " 137,\n",
       " 225,\n",
       " 63,\n",
       " 12,\n",
       " 200,\n",
       " 182,\n",
       " 99,\n",
       " 12,\n",
       " 166]"
      ]
     },
     "execution_count": 6,
     "metadata": {},
     "output_type": "execute_result"
    }
   ],
   "source": [
    "key"
   ]
  },
  {
   "cell_type": "code",
   "execution_count": 7,
   "metadata": {},
   "outputs": [],
   "source": [
    "cipher = AESCipher(key)"
   ]
  },
  {
   "cell_type": "code",
   "execution_count": 11,
   "metadata": {},
   "outputs": [],
   "source": [
    "from Crypto.Cipher import AES\n",
    "check_cipher = AES.new(ktp.next()[0], AES.MODE_ECB)"
   ]
  },
  {
   "cell_type": "code",
   "execution_count": 166,
   "metadata": {},
   "outputs": [],
   "source": [
    "pt = ktp.next()[1]"
   ]
  },
  {
   "cell_type": "code",
   "execution_count": 167,
   "metadata": {},
   "outputs": [],
   "source": [
    "ct1 = cipher.cipher_block(list(pt))\n",
    "ct2 = check_cipher.encrypt(pt)"
   ]
  },
  {
   "cell_type": "code",
   "execution_count": 168,
   "metadata": {},
   "outputs": [
    {
     "data": {
      "text/plain": [
       "CWbytearray(b'17 2a 21 a7 f6 7a ca c3 0e 64 35 08 23 f8 6f bb')"
      ]
     },
     "execution_count": 168,
     "metadata": {},
     "output_type": "execute_result"
    }
   ],
   "source": [
    "bytearray(ct1)"
   ]
  },
  {
   "cell_type": "code",
   "execution_count": 169,
   "metadata": {},
   "outputs": [
    {
     "data": {
      "text/plain": [
       "CWbytearray(b'17 2a 21 a7 f6 7a ca c3 0e 64 35 08 23 f8 6f bb')"
      ]
     },
     "execution_count": 169,
     "metadata": {},
     "output_type": "execute_result"
    }
   ],
   "source": [
    "bytearray(ct2)"
   ]
  },
  {
   "cell_type": "code",
   "execution_count": 170,
   "metadata": {},
   "outputs": [],
   "source": [
    "state = list(pt)\n",
    "state = state+[16-len(state)]*(16-len(state))"
   ]
  },
  {
   "cell_type": "code",
   "execution_count": 171,
   "metadata": {},
   "outputs": [],
   "source": [
    "cipher._add_round_key(state, 0)\n",
    "for i in range(1, 9):\n",
    "    cipher._sub_bytes(state)\n",
    "    cipher._shift_rows(state)\n",
    "    cipher._mix_columns(state, False)\n",
    "    cipher._add_round_key(state, i)\n",
    "cipher._sub_bytes(state)\n",
    "cipher._shift_rows(state)"
   ]
  },
  {
   "cell_type": "code",
   "execution_count": 172,
   "metadata": {},
   "outputs": [
    {
     "data": {
      "text/plain": [
       "CWbytearray(b'53 7c c8 77 a3 96 b2 72 1d 45 83 3f 74 bc e5 28')"
      ]
     },
     "execution_count": 172,
     "metadata": {},
     "output_type": "execute_result"
    }
   ],
   "source": [
    "bytearray(state)"
   ]
  },
  {
   "cell_type": "code",
   "execution_count": 173,
   "metadata": {},
   "outputs": [],
   "source": [
    "x = list(state)\n",
    "cipher._mix_columns(x, False)\n",
    "cipher._add_round_key(x, 9)\n",
    "cipher._sub_bytes(x)\n",
    "cipher._shift_rows(x)\n",
    "cipher._add_round_key(x, 10)"
   ]
  },
  {
   "cell_type": "code",
   "execution_count": 174,
   "metadata": {},
   "outputs": [
    {
     "data": {
      "text/plain": [
       "CWbytearray(b'17 2a 21 a7 f6 7a ca c3 0e 64 35 08 23 f8 6f bb')"
      ]
     },
     "execution_count": 174,
     "metadata": {},
     "output_type": "execute_result"
    }
   ],
   "source": [
    "bytearray(x)"
   ]
  },
  {
   "cell_type": "code",
   "execution_count": 175,
   "metadata": {},
   "outputs": [
    {
     "data": {
      "text/plain": [
       "CWbytearray(b'53 7c c8 77 a3 96 b2 72 1d 45 83 3f 74 bc e5 28')"
      ]
     },
     "execution_count": 175,
     "metadata": {},
     "output_type": "execute_result"
    }
   ],
   "source": [
    "bytearray(state)"
   ]
  },
  {
   "cell_type": "code",
   "execution_count": 176,
   "metadata": {},
   "outputs": [],
   "source": [
    "import random\n",
    "random.seed()\n",
    "fault = random.getrandbits(8)"
   ]
  },
  {
   "cell_type": "code",
   "execution_count": 177,
   "metadata": {},
   "outputs": [],
   "source": [
    "state[0] = fault"
   ]
  },
  {
   "cell_type": "code",
   "execution_count": 178,
   "metadata": {},
   "outputs": [
    {
     "data": {
      "text/plain": [
       "CWbytearray(b'06 2a 21 a7 f6 7a ca 01 0e 64 e5 08 23 09 6f bb')"
      ]
     },
     "execution_count": 178,
     "metadata": {},
     "output_type": "execute_result"
    }
   ],
   "source": [
    "cipher._mix_columns(state, False)\n",
    "cipher._add_round_key(state, 9)\n",
    "cipher._sub_bytes(state)\n",
    "cipher._shift_rows(state)\n",
    "cipher._add_round_key(state, 10)\n",
    "bytearray(state)"
   ]
  },
  {
   "cell_type": "code",
   "execution_count": 179,
   "metadata": {},
   "outputs": [
    {
     "name": "stdout",
     "output_type": "stream",
     "text": [
      "CWbytearray(b'06 2a 21 a7 f6 7a ca 01 0e 64 e5 08 23 09 6f bb')\n",
      "CWbytearray(b'17 2a 21 a7 f6 7a ca c3 0e 64 35 08 23 f8 6f bb')\n"
     ]
    }
   ],
   "source": [
    "print(bytearray(state))\n",
    "print(bytearray(x))"
   ]
  },
  {
   "cell_type": "code",
   "execution_count": 181,
   "metadata": {},
   "outputs": [
    {
     "data": {
      "application/vnd.jupyter.widget-view+json": {
       "model_id": "758e57776dde494fba191473372fe554",
       "version_major": 2,
       "version_minor": 0
      },
      "text/plain": [
       "HBox(children=(FloatProgress(value=0.0, max=255.0), HTML(value='')))"
      ]
     },
     "metadata": {},
     "output_type": "display_data"
    },
    {
     "name": "stdout",
     "output_type": "stream",
     "text": [
      "\n",
      "[(4, 208, 4, 26, 248), (4, 208, 4, 26, 252), (4, 208, 4, 30, 248), (4, 208, 4, 30, 252), (4, 208, 8, 26, 248), (4, 208, 8, 26, 252), (4, 208, 8, 30, 248), (4, 208, 8, 30, 252), (4, 216, 4, 26, 248), (4, 216, 4, 26, 252), (4, 216, 4, 30, 248), (4, 216, 4, 30, 252), (4, 216, 8, 26, 248), (4, 216, 8, 26, 252), (4, 216, 8, 30, 248), (4, 216, 8, 30, 252), (15, 0, 142, 225, 212), (15, 0, 142, 225, 219), (15, 0, 142, 238, 212), (15, 0, 142, 238, 219), (15, 0, 159, 225, 212), (15, 0, 159, 225, 219), (15, 0, 159, 238, 212), (15, 0, 159, 238, 219), (15, 7, 142, 225, 212), (15, 7, 142, 225, 219), (15, 7, 142, 238, 212), (15, 7, 142, 238, 219), (15, 7, 159, 225, 212), (15, 7, 159, 225, 219), (15, 7, 159, 238, 212), (15, 7, 159, 238, 219), (15, 25, 142, 225, 212), (15, 25, 142, 225, 219), (15, 25, 142, 238, 212), (15, 25, 142, 238, 219), (15, 25, 159, 225, 212), (15, 25, 159, 225, 219), (15, 25, 159, 238, 212), (15, 25, 159, 238, 219), (15, 30, 142, 225, 212), (15, 30, 142, 225, 219), (15, 30, 142, 238, 212), (15, 30, 142, 238, 219), (15, 30, 159, 225, 212), (15, 30, 159, 225, 219), (15, 30, 159, 238, 212), (15, 30, 159, 238, 219), (22, 72, 9, 41, 44), (22, 72, 9, 41, 58), (22, 72, 9, 63, 44), (22, 72, 9, 63, 58), (22, 72, 51, 41, 44), (22, 72, 51, 41, 58), (22, 72, 51, 63, 44), (22, 72, 51, 63, 58), (22, 100, 9, 41, 44), (22, 100, 9, 41, 58), (22, 100, 9, 63, 44), (22, 100, 9, 63, 58), (22, 100, 51, 41, 44), (22, 100, 51, 41, 58), (22, 100, 51, 63, 44), (22, 100, 51, 63, 58), (29, 76, 154, 68, 101), (29, 76, 154, 68, 120), (29, 76, 154, 89, 101), (29, 76, 154, 89, 120), (29, 76, 189, 68, 101), (29, 76, 189, 68, 120), (29, 76, 189, 89, 101), (29, 76, 189, 89, 120), (29, 118, 154, 68, 101), (29, 118, 154, 68, 120), (29, 118, 154, 89, 101), (29, 118, 154, 89, 120), (29, 118, 189, 68, 101), (29, 118, 189, 68, 120), (29, 118, 189, 89, 101), (29, 118, 189, 89, 120), (48, 24, 46, 218, 137), (48, 24, 46, 218, 185), (48, 24, 46, 234, 137), (48, 24, 46, 234, 185), (48, 24, 126, 218, 137), (48, 24, 126, 218, 185), (48, 24, 126, 234, 137), (48, 24, 126, 234, 185), (48, 120, 46, 218, 137), (48, 120, 46, 218, 185), (48, 120, 46, 234, 137), (48, 120, 46, 234, 185), (48, 120, 126, 218, 137), (48, 120, 126, 218, 185), (48, 120, 126, 234, 137), (48, 120, 126, 234, 185), (51, 176, 187, 78, 193), (51, 176, 187, 78, 242), (51, 176, 187, 125, 193), (51, 176, 187, 125, 242), (51, 176, 238, 78, 193), (51, 176, 238, 78, 242), (51, 176, 238, 125, 193), (51, 176, 238, 125, 242), (51, 214, 187, 78, 193), (51, 214, 187, 78, 242), (51, 214, 187, 125, 193), (51, 214, 187, 125, 242), (51, 214, 238, 78, 193), (51, 214, 238, 78, 242), (51, 214, 238, 125, 193), (51, 214, 238, 125, 242), (58, 52, 52, 201, 132), (58, 52, 52, 201, 190), (58, 52, 52, 243, 132), (58, 52, 52, 243, 190), (58, 52, 122, 201, 132), (58, 52, 122, 201, 190), (58, 52, 122, 243, 132), (58, 52, 122, 243, 190), (58, 64, 52, 201, 132), (58, 64, 52, 201, 190), (58, 64, 52, 243, 132), (58, 64, 52, 243, 190), (58, 64, 122, 201, 132), (58, 64, 122, 201, 190), (58, 64, 122, 243, 132), (58, 64, 122, 243, 190), (72, 42, 3, 153, 14), (72, 42, 3, 153, 70), (72, 42, 3, 209, 14), (72, 42, 3, 209, 70), (72, 42, 219, 153, 14), (72, 42, 219, 153, 70), (72, 42, 219, 209, 14), (72, 42, 219, 209, 70), (72, 186, 3, 153, 14), (72, 186, 3, 153, 70), (72, 186, 3, 209, 14), (72, 186, 3, 209, 70), (72, 186, 219, 153, 14), (72, 186, 219, 153, 70), (72, 186, 219, 209, 14), (72, 186, 219, 209, 70), (74, 108, 72, 140, 26), (74, 108, 72, 140, 80), (74, 108, 72, 198, 26), (74, 108, 72, 198, 80), (74, 108, 150, 140, 26), (74, 108, 150, 140, 80), (74, 108, 150, 198, 26), (74, 108, 150, 198, 80), (74, 248, 72, 140, 26), (74, 248, 72, 140, 80), (74, 248, 72, 198, 26), (74, 248, 72, 198, 80), (74, 248, 150, 140, 26), (74, 248, 150, 140, 80), (74, 248, 150, 198, 26), (74, 248, 150, 198, 80), (84, 28, 80, 172, 134), (84, 28, 80, 172, 210), (84, 28, 80, 248, 134), (84, 28, 80, 248, 210), (84, 28, 172, 172, 134), (84, 28, 172, 172, 210), (84, 28, 172, 248, 134), (84, 28, 172, 248, 210), (84, 180, 80, 172, 134), (84, 180, 80, 172, 210), (84, 180, 80, 248, 134), (84, 180, 80, 248, 210), (84, 180, 172, 172, 134), (84, 180, 172, 172, 210), (84, 180, 172, 248, 134), (84, 180, 172, 248, 210), (86, 115, 82, 58, 133), (86, 115, 82, 58, 211), (86, 115, 82, 108, 133), (86, 115, 82, 108, 211), (86, 115, 168, 58, 133), (86, 115, 168, 58, 211), (86, 115, 168, 108, 133), (86, 115, 168, 108, 211), (86, 223, 82, 58, 133), (86, 223, 82, 58, 211), (86, 223, 82, 108, 133), (86, 223, 82, 108, 211), (86, 223, 168, 58, 133), (86, 223, 168, 58, 211), (86, 223, 168, 108, 133), (86, 223, 168, 108, 211), (173, 27, 71, 53, 103), (173, 27, 71, 53, 202), (173, 27, 71, 152, 103), (173, 27, 71, 152, 202), (173, 27, 171, 53, 103), (173, 27, 171, 53, 202), (173, 27, 171, 152, 103), (173, 27, 171, 152, 202), (173, 90, 71, 53, 103), (173, 90, 71, 53, 202), (173, 90, 71, 152, 103), (173, 90, 71, 152, 202), (173, 90, 171, 53, 103), (173, 90, 171, 53, 202), (173, 90, 171, 152, 103), (173, 90, 171, 152, 202), (176, 49, 92, 91, 88), (176, 49, 92, 91, 232), (176, 49, 92, 235, 88), (176, 49, 92, 235, 232), (176, 49, 151, 91, 88), (176, 49, 151, 91, 232), (176, 49, 151, 235, 88), (176, 49, 151, 235, 232), (176, 74, 92, 91, 88), (176, 74, 92, 91, 232), (176, 74, 92, 235, 88), (176, 74, 92, 235, 232), (176, 74, 151, 91, 88), (176, 74, 151, 91, 232), (176, 74, 151, 235, 88), (176, 74, 151, 235, 232), (217, 11, 60, 122, 6), (217, 11, 60, 122, 223), (217, 11, 60, 163, 6), (217, 11, 60, 163, 223), (217, 11, 76, 122, 6), (217, 11, 76, 122, 223), (217, 11, 76, 163, 6), (217, 11, 76, 163, 223), (217, 162, 60, 122, 6), (217, 162, 60, 122, 223), (217, 162, 60, 163, 6), (217, 162, 60, 163, 223), (217, 162, 76, 122, 6), (217, 162, 76, 122, 223), (217, 162, 76, 163, 6), (217, 162, 76, 163, 223), (227, 67, 204, 39, 19), (227, 67, 204, 39, 240), (227, 67, 204, 196, 19), (227, 67, 204, 196, 240), (227, 67, 242, 39, 19), (227, 67, 242, 39, 240), (227, 67, 242, 196, 19), (227, 67, 242, 196, 240), (227, 158, 204, 39, 19), (227, 158, 204, 39, 240), (227, 158, 204, 196, 19), (227, 158, 204, 196, 240), (227, 158, 242, 39, 19), (227, 158, 242, 39, 240), (227, 158, 242, 196, 19), (227, 158, 242, 196, 240)]\n"
     ]
    }
   ],
   "source": [
    "def gmul(a, b):\n",
    "    p = 0\n",
    "    while a and b:\n",
    "        if b & 1:\n",
    "            p ^= a\n",
    "        if (a & 0x80):\n",
    "            a = (a << 1) ^ 0x11b;\n",
    "        else:\n",
    "            a <<= 1\n",
    "        b >>= 1\n",
    "    return p\n",
    "def check_Y(Z, Yn, n):\n",
    "    lookup = [0, 7, 10, 13]\n",
    "    lhs = state[lookup[n]] ^ x[lookup[n]]\n",
    "    coeff = [2, 3, 1, 1]\n",
    "    rhs = aes_tables.sbox[Yn] ^ aes_tables.sbox[gmul(Z, coeff[n]) ^ Yn]\n",
    "    return lhs == rhs\n",
    "\n",
    "guesses = []\n",
    "from tqdm.notebook import trange\n",
    "for Z in trange(255):\n",
    "    for Y0 in range(255):\n",
    "        if check_Y(Z, Y0, 0):\n",
    "            for Y1 in range(255):\n",
    "                if check_Y(Z, Y1, 1):\n",
    "                    for Y2 in range(255):\n",
    "                        if check_Y(Z, Y2, 2):\n",
    "                            for Y3 in range(255):\n",
    "                                if check_Y(Z, Y3, 3):\n",
    "                                    guesses.append((Z, Y0, Y1, Y2, Y3))\n",
    "print(guesses)                            "
   ]
  },
  {
   "cell_type": "code",
   "execution_count": 182,
   "metadata": {},
   "outputs": [],
   "source": [
    "K0s = set([])\n",
    "K7s = set([])\n",
    "K10s = set([])\n",
    "K13s = set([])\n",
    "for Z, Y0, Y1, Y2, Y3 in guesses:\n",
    "    K0s.add(state[0] ^ aes_tables.sbox[Y0])\n",
    "    K7s.add(state[7] ^ aes_tables.sbox[Y1])\n",
    "    K10s.add(state[10] ^ aes_tables.sbox[Y2])\n",
    "    K13s.add(state[13] ^ aes_tables.sbox[Y3])"
   ]
  },
  {
   "cell_type": "code",
   "execution_count": 183,
   "metadata": {},
   "outputs": [
    {
     "data": {
      "text/plain": [
       "{13,\n",
       " 15,\n",
       " 28,\n",
       " 30,\n",
       " 45,\n",
       " 47,\n",
       " 60,\n",
       " 62,\n",
       " 69,\n",
       " 71,\n",
       " 84,\n",
       " 86,\n",
       " 101,\n",
       " 103,\n",
       " 116,\n",
       " 118,\n",
       " 137,\n",
       " 139,\n",
       " 152,\n",
       " 154,\n",
       " 169,\n",
       " 171,\n",
       " 184,\n",
       " 186,\n",
       " 193,\n",
       " 195,\n",
       " 208,\n",
       " 210,\n",
       " 225,\n",
       " 227,\n",
       " 240,\n",
       " 242}"
      ]
     },
     "execution_count": 183,
     "metadata": {},
     "output_type": "execute_result"
    }
   ],
   "source": [
    "K0s"
   ]
  },
  {
   "cell_type": "code",
   "execution_count": 198,
   "metadata": {},
   "outputs": [
    {
     "name": "stdout",
     "output_type": "stream",
     "text": [
      "CWbytearray(b'80 cd 7a b8 48 ed ab 26 73 f3 b3 20 54 11 28 fc')\n",
      "CWbytearray(b'01 cd 7a b8 48 ed ab 5c 73 f3 89 20 54 3e 28 fc')\n"
     ]
    }
   ],
   "source": [
    "pt2 = ktp.next()[1]\n",
    "state2 = list(pt2)\n",
    "state2 = state2+[16-len(state2)]*(16-len(state2))\n",
    "\n",
    "cipher._add_round_key(state2, 0)\n",
    "for i in range(1, 9):\n",
    "    cipher._sub_bytes(state2)\n",
    "    cipher._shift_rows(state2)\n",
    "    cipher._mix_columns(state2, False)\n",
    "    cipher._add_round_key(state2, i)\n",
    "cipher._sub_bytes(state2)\n",
    "cipher._shift_rows(state2)\n",
    "\n",
    "x2 = list(state2)\n",
    "cipher._mix_columns(x2, False)\n",
    "cipher._add_round_key(x2, 9)\n",
    "cipher._sub_bytes(x2)\n",
    "cipher._shift_rows(x2)\n",
    "cipher._add_round_key(x2, 10)\n",
    "\n",
    "import random\n",
    "random.seed()\n",
    "fault = random.getrandbits(8)\n",
    "state2[0] = fault\n",
    "\n",
    "cipher._mix_columns(state2, False)\n",
    "cipher._add_round_key(state2, 9)\n",
    "cipher._sub_bytes(state2)\n",
    "cipher._shift_rows(state2)\n",
    "cipher._add_round_key(state2, 10)\n",
    "\n",
    "print(bytearray(state2))\n",
    "print(bytearray(x2))"
   ]
  },
  {
   "cell_type": "code",
   "execution_count": 199,
   "metadata": {},
   "outputs": [
    {
     "data": {
      "application/vnd.jupyter.widget-view+json": {
       "model_id": "2ef5996e1923407799da3b8f265d72a0",
       "version_major": 2,
       "version_minor": 0
      },
      "text/plain": [
       "HBox(children=(FloatProgress(value=0.0, max=255.0), HTML(value='')))"
      ]
     },
     "metadata": {},
     "output_type": "display_data"
    },
    {
     "name": "stdout",
     "output_type": "stream",
     "text": [
      "\n"
     ]
    }
   ],
   "source": [
    "def check_Y2(Z, Yn, n):\n",
    "    lookup = [0, 7, 10, 13]\n",
    "    lhs = state2[lookup[n]] ^ x2[lookup[n]]\n",
    "    coeff = [2, 3, 1, 1]\n",
    "    rhs = aes_tables.sbox[Yn] ^ aes_tables.sbox[gmul(Z, coeff[n]) ^ Yn]\n",
    "    return lhs == rhs\n",
    "\n",
    "guesses2 = []\n",
    "from tqdm.notebook import trange\n",
    "for Z in trange(255):\n",
    "    for Y0 in range(255):\n",
    "        if check_Y2(Z, Y0, 0):\n",
    "            for Y1 in range(255):\n",
    "                if check_Y2(Z, Y1, 1):\n",
    "                    for Y2 in range(255):\n",
    "                        if check_Y2(Z, Y2, 2):\n",
    "                            for Y3 in range(255):\n",
    "                                if check_Y2(Z, Y3, 3):\n",
    "                                    guesses2.append((Z, Y0, Y1, Y2, Y3))"
   ]
  },
  {
   "cell_type": "code",
   "execution_count": 200,
   "metadata": {},
   "outputs": [
    {
     "data": {
      "text/plain": [
       "[(27, 155, 150, 111, 193),\n",
       " (27, 155, 150, 111, 218),\n",
       " (27, 155, 150, 116, 193),\n",
       " (27, 155, 150, 116, 218),\n",
       " (27, 155, 187, 111, 193),\n",
       " (27, 155, 187, 111, 218),\n",
       " (27, 155, 187, 116, 193),\n",
       " (27, 155, 187, 116, 218),\n",
       " (27, 173, 150, 111, 193),\n",
       " (27, 173, 150, 111, 218),\n",
       " (27, 173, 150, 116, 193),\n",
       " (27, 173, 150, 116, 218),\n",
       " (27, 173, 187, 111, 193),\n",
       " (27, 173, 187, 111, 218),\n",
       " (27, 173, 187, 116, 193),\n",
       " (27, 173, 187, 116, 218),\n",
       " (28, 21, 88, 106, 78),\n",
       " (28, 21, 88, 106, 82),\n",
       " (28, 21, 88, 118, 78),\n",
       " (28, 21, 88, 118, 82),\n",
       " (28, 21, 124, 106, 78),\n",
       " (28, 21, 124, 106, 82),\n",
       " (28, 21, 124, 118, 78),\n",
       " (28, 21, 124, 118, 82),\n",
       " (28, 45, 88, 106, 78),\n",
       " (28, 45, 88, 106, 82),\n",
       " (28, 45, 88, 118, 78),\n",
       " (28, 45, 88, 118, 82),\n",
       " (28, 45, 124, 106, 78),\n",
       " (28, 45, 124, 106, 82),\n",
       " (28, 45, 124, 118, 78),\n",
       " (28, 45, 124, 118, 82),\n",
       " (50, 60, 147, 156, 209),\n",
       " (50, 60, 147, 156, 227),\n",
       " (50, 60, 147, 174, 209),\n",
       " (50, 60, 147, 174, 227),\n",
       " (50, 60, 197, 156, 209),\n",
       " (50, 60, 197, 156, 227),\n",
       " (50, 60, 197, 174, 209),\n",
       " (50, 60, 197, 174, 227),\n",
       " (50, 88, 147, 156, 209),\n",
       " (50, 88, 147, 156, 227),\n",
       " (50, 88, 147, 174, 209),\n",
       " (50, 88, 147, 174, 227),\n",
       " (50, 88, 197, 156, 209),\n",
       " (50, 88, 197, 156, 227),\n",
       " (50, 88, 197, 174, 209),\n",
       " (50, 88, 197, 174, 227),\n",
       " (55, 167, 18, 193, 197),\n",
       " (55, 167, 18, 193, 242),\n",
       " (55, 167, 18, 246, 197),\n",
       " (55, 167, 18, 246, 242),\n",
       " (55, 167, 75, 193, 197),\n",
       " (55, 167, 75, 193, 242),\n",
       " (55, 167, 75, 246, 197),\n",
       " (55, 167, 75, 246, 242),\n",
       " (55, 201, 18, 193, 197),\n",
       " (55, 201, 18, 193, 242),\n",
       " (55, 201, 18, 246, 197),\n",
       " (55, 201, 18, 246, 242),\n",
       " (55, 201, 75, 193, 197),\n",
       " (55, 201, 75, 193, 242),\n",
       " (55, 201, 75, 246, 197),\n",
       " (55, 201, 75, 246, 242),\n",
       " (97, 28, 78, 47, 163),\n",
       " (97, 28, 78, 47, 194),\n",
       " (97, 28, 78, 78, 163),\n",
       " (97, 28, 78, 78, 194),\n",
       " (97, 28, 237, 47, 163),\n",
       " (97, 28, 237, 47, 194),\n",
       " (97, 28, 237, 78, 163),\n",
       " (97, 28, 237, 78, 194),\n",
       " (97, 222, 78, 47, 163),\n",
       " (97, 222, 78, 47, 194),\n",
       " (97, 222, 78, 78, 163),\n",
       " (97, 222, 78, 78, 194),\n",
       " (97, 222, 237, 47, 163),\n",
       " (97, 222, 237, 47, 194),\n",
       " (97, 222, 237, 78, 163),\n",
       " (97, 222, 237, 78, 194),\n",
       " (108, 27, 77, 18, 40),\n",
       " (108, 27, 77, 18, 68),\n",
       " (108, 27, 77, 126, 40),\n",
       " (108, 27, 77, 126, 68),\n",
       " (108, 27, 249, 18, 40),\n",
       " (108, 27, 249, 18, 68),\n",
       " (108, 27, 249, 126, 40),\n",
       " (108, 27, 249, 126, 68),\n",
       " (108, 195, 77, 18, 40),\n",
       " (108, 195, 77, 18, 68),\n",
       " (108, 195, 77, 126, 40),\n",
       " (108, 195, 77, 126, 68),\n",
       " (108, 195, 249, 18, 40),\n",
       " (108, 195, 249, 18, 68),\n",
       " (108, 195, 249, 126, 40),\n",
       " (108, 195, 249, 126, 68),\n",
       " (122, 25, 0, 7, 25),\n",
       " (122, 25, 0, 7, 99),\n",
       " (122, 25, 0, 125, 25),\n",
       " (122, 25, 0, 125, 99),\n",
       " (122, 25, 15, 7, 25),\n",
       " (122, 25, 15, 7, 99),\n",
       " (122, 25, 15, 125, 25),\n",
       " (122, 25, 15, 125, 99),\n",
       " (122, 25, 129, 7, 25),\n",
       " (122, 25, 129, 7, 99),\n",
       " (122, 25, 129, 125, 25),\n",
       " (122, 25, 129, 125, 99),\n",
       " (122, 25, 142, 7, 25),\n",
       " (122, 25, 142, 7, 99),\n",
       " (122, 25, 142, 125, 25),\n",
       " (122, 25, 142, 125, 99),\n",
       " (122, 237, 0, 7, 25),\n",
       " (122, 237, 0, 7, 99),\n",
       " (122, 237, 0, 125, 25),\n",
       " (122, 237, 0, 125, 99),\n",
       " (122, 237, 15, 7, 25),\n",
       " (122, 237, 15, 7, 99),\n",
       " (122, 237, 15, 125, 25),\n",
       " (122, 237, 15, 125, 99),\n",
       " (122, 237, 129, 7, 25),\n",
       " (122, 237, 129, 7, 99),\n",
       " (122, 237, 129, 125, 25),\n",
       " (122, 237, 129, 125, 99),\n",
       " (122, 237, 142, 7, 25),\n",
       " (122, 237, 142, 7, 99),\n",
       " (122, 237, 142, 125, 25),\n",
       " (122, 237, 142, 125, 99),\n",
       " (124, 61, 35, 182, 152),\n",
       " (124, 61, 35, 182, 228),\n",
       " (124, 61, 35, 202, 152),\n",
       " (124, 61, 35, 202, 228),\n",
       " (124, 61, 167, 182, 152),\n",
       " (124, 61, 167, 182, 228),\n",
       " (124, 61, 167, 202, 152),\n",
       " (124, 61, 167, 202, 228),\n",
       " (124, 197, 35, 182, 152),\n",
       " (124, 197, 35, 182, 228),\n",
       " (124, 197, 35, 202, 152),\n",
       " (124, 197, 35, 202, 228),\n",
       " (124, 197, 167, 182, 152),\n",
       " (124, 197, 167, 182, 228),\n",
       " (124, 197, 167, 202, 152),\n",
       " (124, 197, 167, 202, 228),\n",
       " (147, 81, 27, 103, 30),\n",
       " (147, 81, 27, 103, 141),\n",
       " (147, 81, 27, 244, 30),\n",
       " (147, 81, 27, 244, 141),\n",
       " (147, 81, 181, 103, 30),\n",
       " (147, 81, 181, 103, 141),\n",
       " (147, 81, 181, 244, 30),\n",
       " (147, 81, 181, 244, 141),\n",
       " (147, 108, 27, 103, 30),\n",
       " (147, 108, 27, 103, 141),\n",
       " (147, 108, 27, 244, 30),\n",
       " (147, 108, 27, 244, 141),\n",
       " (147, 108, 181, 103, 30),\n",
       " (147, 108, 181, 103, 141),\n",
       " (147, 108, 181, 244, 30),\n",
       " (147, 108, 181, 244, 141),\n",
       " (183, 150, 102, 127, 43),\n",
       " (183, 150, 102, 127, 156),\n",
       " (183, 150, 102, 200, 43),\n",
       " (183, 150, 102, 200, 156),\n",
       " (183, 150, 164, 127, 43),\n",
       " (183, 150, 164, 127, 156),\n",
       " (183, 150, 164, 200, 43),\n",
       " (183, 150, 164, 200, 156),\n",
       " (183, 227, 102, 127, 43),\n",
       " (183, 227, 102, 127, 156),\n",
       " (183, 227, 102, 200, 43),\n",
       " (183, 227, 102, 200, 156),\n",
       " (183, 227, 164, 127, 43),\n",
       " (183, 227, 164, 127, 156),\n",
       " (183, 227, 164, 200, 43),\n",
       " (183, 227, 164, 200, 156),\n",
       " (185, 11, 114, 75, 116),\n",
       " (185, 11, 114, 75, 205),\n",
       " (185, 11, 114, 242, 116),\n",
       " (185, 11, 114, 242, 205),\n",
       " (185, 11, 162, 75, 116),\n",
       " (185, 11, 162, 75, 205),\n",
       " (185, 11, 162, 242, 116),\n",
       " (185, 11, 162, 242, 205),\n",
       " (185, 98, 114, 75, 116),\n",
       " (185, 98, 114, 75, 205),\n",
       " (185, 98, 114, 242, 116),\n",
       " (185, 98, 114, 242, 205),\n",
       " (185, 98, 162, 75, 116),\n",
       " (185, 98, 162, 75, 205),\n",
       " (185, 98, 162, 242, 116),\n",
       " (185, 98, 162, 242, 205),\n",
       " (188, 176, 31, 50, 7),\n",
       " (188, 176, 31, 50, 187),\n",
       " (188, 176, 31, 142, 7),\n",
       " (188, 176, 31, 142, 187),\n",
       " (188, 176, 192, 50, 7),\n",
       " (188, 176, 192, 50, 187),\n",
       " (188, 176, 192, 142, 7),\n",
       " (188, 176, 192, 142, 187),\n",
       " (188, 211, 31, 50, 7),\n",
       " (188, 211, 31, 50, 187),\n",
       " (188, 211, 31, 142, 7),\n",
       " (188, 211, 31, 142, 187),\n",
       " (188, 211, 192, 50, 7),\n",
       " (188, 211, 192, 50, 187),\n",
       " (188, 211, 192, 142, 7),\n",
       " (188, 211, 192, 142, 187),\n",
       " (194, 6, 54, 29, 32),\n",
       " (194, 6, 54, 29, 226),\n",
       " (194, 6, 54, 223, 32),\n",
       " (194, 6, 54, 223, 226),\n",
       " (194, 6, 107, 29, 32),\n",
       " (194, 6, 107, 29, 226),\n",
       " (194, 6, 107, 223, 32),\n",
       " (194, 6, 107, 223, 226),\n",
       " (194, 153, 54, 29, 32),\n",
       " (194, 153, 54, 29, 226),\n",
       " (194, 153, 54, 223, 32),\n",
       " (194, 153, 54, 223, 226),\n",
       " (194, 153, 107, 29, 32),\n",
       " (194, 153, 107, 29, 226),\n",
       " (194, 153, 107, 223, 32),\n",
       " (194, 153, 107, 223, 226),\n",
       " (235, 52, 214, 6, 65),\n",
       " (235, 52, 214, 6, 170),\n",
       " (235, 52, 214, 237, 65),\n",
       " (235, 52, 214, 237, 170),\n",
       " (235, 52, 240, 6, 65),\n",
       " (235, 52, 240, 6, 170),\n",
       " (235, 52, 240, 237, 65),\n",
       " (235, 52, 240, 237, 170),\n",
       " (235, 249, 214, 6, 65),\n",
       " (235, 249, 214, 6, 170),\n",
       " (235, 249, 214, 237, 65),\n",
       " (235, 249, 214, 237, 170),\n",
       " (235, 249, 240, 6, 65),\n",
       " (235, 249, 240, 6, 170),\n",
       " (235, 249, 240, 237, 65),\n",
       " (235, 249, 240, 237, 170)]"
      ]
     },
     "execution_count": 200,
     "metadata": {},
     "output_type": "execute_result"
    }
   ],
   "source": [
    "guesses2"
   ]
  },
  {
   "cell_type": "code",
   "execution_count": 201,
   "metadata": {},
   "outputs": [],
   "source": [
    "K0s2 = set([])\n",
    "K7s2 = set([])\n",
    "K10s2 = set([])\n",
    "K13s2 = set([])\n",
    "for Z, Y0, Y1, Y2, Y3 in guesses2:\n",
    "    K0s2.add(state2[0] ^ aes_tables.sbox[Y0])\n",
    "    K7s2.add(state2[7] ^ aes_tables.sbox[Y1])\n",
    "    K10s2.add(state2[10] ^ aes_tables.sbox[Y2])\n",
    "    K13s2.add(state2[13] ^ aes_tables.sbox[Y3])"
   ]
  },
  {
   "cell_type": "code",
   "execution_count": 202,
   "metadata": {},
   "outputs": [],
   "source": [
    "K0 = []\n",
    "for K in K0s:\n",
    "    if K in K0s2:\n",
    "        K0.append(K)"
   ]
  },
  {
   "cell_type": "code",
   "execution_count": 203,
   "metadata": {},
   "outputs": [
    {
     "data": {
      "text/plain": [
       "CWbytearray(b'98 1c ab 2f d0 54 67')"
      ]
     },
     "execution_count": 203,
     "metadata": {},
     "output_type": "execute_result"
    }
   ],
   "source": [
    "bytearray(K0)"
   ]
  },
  {
   "cell_type": "code",
   "execution_count": 204,
   "metadata": {},
   "outputs": [
    {
     "data": {
      "text/plain": [
       "CWbytearray(b'2b 7e 15 16 28 ae d2 a6 ab f7 15 88 09 cf 4f 3c a0 fa fe 17 88 54 2c b1 23 a3 39 39 2a 6c 76 05 f2 c2 95 f2 7a 96 b9 43 59 35 80 7a 73 59 f6 7f 3d 80 47 7d 47 16 fe 3e 1e 23 7e 44 6d 7a 88 3b ef 44 a5 41 a8 52 5b 7f b6 71 25 3b db 0b ad 00 d4 d1 c6 f8 7c 83 9d 87 ca f2 b8 bc 11 f9 15 bc 6d 88 a3 7a 11 0b 3e fd db f9 86 41 ca 00 93 fd 4e 54 f7 0e 5f 5f c9 f3 84 a6 4f b2 4e a6 dc 4f ea d2 73 21 b5 8d ba d2 31 2b f5 60 7f 8d 29 2f ac 77 66 f3 19 fa dc 21 28 d1 29 41 57 5c 00 6e d0 14 f9 a8 c9 ee 25 89 e1 3f 0c c8 b6 63 0c a6')"
      ]
     },
     "execution_count": 204,
     "metadata": {},
     "output_type": "execute_result"
    }
   ],
   "source": [
    "bytearray(key)"
   ]
  },
  {
   "cell_type": "code",
   "execution_count": 219,
   "metadata": {},
   "outputs": [
    {
     "name": "stdout",
     "output_type": "stream",
     "text": [
      "CWbytearray(b'c6 69 0f 4c eb 04 a8 ec 41 17 5c 26 02 94 70 bd')\n",
      "CWbytearray(b'8c 69 0f 4c eb 04 a8 61 41 17 05 26 02 04 70 bd')\n"
     ]
    }
   ],
   "source": [
    "pt2 = ktp.next()[1]\n",
    "state2 = list(pt2)\n",
    "state2 = state2+[16-len(state2)]*(16-len(state2))\n",
    "\n",
    "cipher._add_round_key(state2, 0)\n",
    "for i in range(1, 9):\n",
    "    cipher._sub_bytes(state2)\n",
    "    cipher._shift_rows(state2)\n",
    "    cipher._mix_columns(state2, False)\n",
    "    cipher._add_round_key(state2, i)\n",
    "cipher._sub_bytes(state2)\n",
    "cipher._shift_rows(state2)\n",
    "\n",
    "x2 = list(state2)\n",
    "cipher._mix_columns(x2, False)\n",
    "cipher._add_round_key(x2, 9)\n",
    "cipher._sub_bytes(x2)\n",
    "cipher._shift_rows(x2)\n",
    "cipher._add_round_key(x2, 10)\n",
    "\n",
    "import random\n",
    "random.seed()\n",
    "fault = random.getrandbits(8)\n",
    "state2[0] = fault\n",
    "\n",
    "cipher._mix_columns(state2, False)\n",
    "cipher._add_round_key(state2, 9)\n",
    "cipher._sub_bytes(state2)\n",
    "cipher._shift_rows(state2)\n",
    "cipher._add_round_key(state2, 10)\n",
    "\n",
    "print(bytearray(state2))\n",
    "print(bytearray(x2))"
   ]
  },
  {
   "cell_type": "code",
   "execution_count": 315,
   "metadata": {},
   "outputs": [
    {
     "name": "stdout",
     "output_type": "stream",
     "text": [
      "CWbytearray(b'6c 11 86 14 7c cf c5 df c5 48 8a 22 1e 20 24 00') CWbytearray(b'23 11 86 14 7c cf c5 ec c5 48 92 22 1e e6 24 00')\n"
     ]
    }
   ],
   "source": [
    "pt = ktp.next()[1]\n",
    "state, x = generate_glitch(pt, cipher)\n",
    "print(bytearray(state), bytearray(x))"
   ]
  },
  {
   "cell_type": "code",
   "execution_count": 316,
   "metadata": {},
   "outputs": [
    {
     "data": {
      "application/vnd.jupyter.widget-view+json": {
       "model_id": "b76d723034fa4199b4daaae59460b104",
       "version_major": 2,
       "version_minor": 0
      },
      "text/plain": [
       "HBox(children=(FloatProgress(value=0.0, max=255.0), HTML(value='')))"
      ]
     },
     "metadata": {},
     "output_type": "display_data"
    },
    {
     "name": "stdout",
     "output_type": "stream",
     "text": [
      "\n",
      "[{4, 134, 141, 148, 22, 29, 159, 37, 167, 172, 46, 181, 55, 60, 190, 194, 201, 75, 208, 82, 89, 219, 97, 227, 232, 106, 241, 115, 120, 250}, {136, 137, 142, 18, 19, 20, 21, 32, 33, 38, 39, 186, 187, 189, 194, 195, 196, 197, 88, 89, 94, 95, 106, 107, 108, 109, 240, 241, 246, 247}, {138, 11, 12, 141, 146, 19, 20, 149, 168, 41, 46, 175, 176, 49, 54, 183, 74, 203, 204, 77, 82, 211, 212, 85, 104, 233, 238, 111, 112, 241, 246, 119}, {5, 14, 142, 16, 144, 27, 155, 37, 165, 174, 46, 176, 48, 187, 59, 195, 200, 72, 214, 86, 221, 93, 99, 227, 104, 232, 118, 246, 253, 125}]\n"
     ]
    }
   ],
   "source": [
    "key_guesses = get_key_guesses(state, x)\n",
    "print(key_guesses)"
   ]
  },
  {
   "cell_type": "code",
   "execution_count": 320,
   "metadata": {},
   "outputs": [
    {
     "name": "stdout",
     "output_type": "stream",
     "text": [
      "CWbytearray(b'b7 11 86 14 7c cf c5 00 c5 48 d5 22 1e 2f 24 00') CWbytearray(b'23 11 86 14 7c cf c5 ec c5 48 92 22 1e e6 24 00')\n"
     ]
    },
    {
     "data": {
      "application/vnd.jupyter.widget-view+json": {
       "model_id": "0cee606e59c44b59942bf8f64c9fe509",
       "version_major": 2,
       "version_minor": 0
      },
      "text/plain": [
       "HBox(children=(FloatProgress(value=0.0, max=255.0), HTML(value='')))"
      ]
     },
     "metadata": {},
     "output_type": "display_data"
    },
    {
     "name": "stdout",
     "output_type": "stream",
     "text": [
      "\n",
      "[[208], [137], [12], [99]]\n"
     ]
    }
   ],
   "source": [
    "state, x = generate_glitch(pt, cipher)\n",
    "print(bytearray(state), bytearray(x))\n",
    "key_guesses = update_keys(key_guesses, get_key_guesses(state, x))\n",
    "print(key_guesses)"
   ]
  },
  {
   "cell_type": "code",
   "execution_count": null,
   "metadata": {},
   "outputs": [],
   "source": [
    "K0 = []\n",
    "for K in K0s:\n",
    "    if K in K0s:\n",
    "        K0.append(K)                          "
   ]
  }
 ],
 "metadata": {
  "kernelspec": {
   "display_name": "Python 3",
   "language": "python",
   "name": "python3"
  },
  "language_info": {
   "codemirror_mode": {
    "name": "ipython",
    "version": 3
   },
   "file_extension": ".py",
   "mimetype": "text/x-python",
   "name": "python",
   "nbconvert_exporter": "python",
   "pygments_lexer": "ipython3",
   "version": "3.7.6"
  }
 },
 "nbformat": 4,
 "nbformat_minor": 2
}
