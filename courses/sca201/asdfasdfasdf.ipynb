{
 "cells": [
  {
   "cell_type": "markdown",
   "metadata": {},
   "source": [
    "# Part 2, Topic 1: CPA Attack on 32bit AES (MAIN)"
   ]
  },
  {
   "cell_type": "markdown",
   "metadata": {},
   "source": [
    "---\n",
    "NOTE: This lab references some (commercial) training material on [ChipWhisperer.io](https://www.ChipWhisperer.io). You can freely execute and use the lab per the open-source license (including using it in your own courses if you distribute similarly), but you must maintain notice about this source location. Consider joining our training course to enjoy the full experience.\n",
    "\n",
    "---"
   ]
  },
  {
   "cell_type": "markdown",
   "metadata": {},
   "source": [
    "**SUMMARY:** *So far, we've been focusing on a single implementation of AES, TINYAES128C (or AVRCRYPTOLIB, if you're on XMEGA). TINYAES128C, which is designed to run on a variety of microcontrollers, doesn't make any implementation specific optimizations. In this lab, we'll look at how we can break a 32-bit optimized version of AES using a CPA attack.*\n",
    "\n",
    "**LEARNING OUTCOMES:**\n",
    "\n",
    "* Understanding how AES can be optimized on 32-bit platforms.\n",
    "* Attacking an optimized version of AES using CPA"
   ]
  },
  {
   "cell_type": "markdown",
   "metadata": {},
   "source": [
    "## Optimizing AES\n",
    "\n",
    "A 32-bit machine can operate on 32-bit words, so it seems wasteful to use the same 8-bit operations. For example, if we look at the SBox operation:\n",
    "\n",
    "$$\n",
    "b = sbox(state) = sbox(\\left[ \\begin{array}\n",
    "& S0 & S4 & S8 & S12 \\\\\n",
    "S1 & S5 & S9 & S13 \\\\\n",
    "S2 & S6 & S10 & S14 \\\\\n",
    "S3 & S7 & S11 & S15\n",
    "\\end{array} \\right]) = \\left[ \\begin{array}\n",
    "& S0 & S4 & S8 & S12 \\\\\n",
    "S5 & S9 & S13 & S1 \\\\\n",
    "S10 & S14 & S2 & S6 \\\\\n",
    "S15 & S3 & S7 & S11\n",
    "\\end{array} \\right]\n",
    "$$\n",
    "\n",
    "we could consider each row as a 32-bit number and do three bitwise rotates instead of moving a bunch of stuff around in memory. Even better, we can speed up AES considerably by generating 32-bit lookup tables, called T-Tables, as was described in the book [The Design of Rijndael](http://www.springer.com/gp/book/9783540425809) which was published by the authors of AES.\n",
    "\n",
    "In order to take full advantage of our 32 bit machine, we can examine a typical round of AES. With the exception of the final round, each round looks like:\n",
    "\n",
    "$\\text{a = Round Input}$\n",
    "\n",
    "$\\text{b = SubBytes(a)}$\n",
    "\n",
    "$\\text{c = ShiftRows(b)}$\n",
    "\n",
    "$\\text{d = MixColumns(c)}$\n",
    "\n",
    "$\\text{a' = AddRoundKey(d) = Round Output}$\n",
    "\n",
    "We'll leave AddRoundKey the way it is. The other operations are:\n",
    "\n",
    "$b_{i,j} = \\text{sbox}[a_{i,j}]$\n",
    "\n",
    "$\\left[ \\begin{array} { c } { c _ { 0 , j } } \\\\ { c _ { 1 , j } } \\\\ { c _ { 2 , j } } \\\\ { c _ { 3 , j } } \\end{array} \\right] = \\left[ \\begin{array} { l } { b _ { 0 , j + 0 } } \\\\ { b _ { 1 , j + 1 } } \\\\ { b _ { 2 , j + 2 } } \\\\ { b _ { 3 , j + 3 } } \\end{array} \\right]$\n",
    "\n",
    "$\\left[ \\begin{array} { l } { d _ { 0 , j } } \\\\ { d _ { 1 , j } } \\\\ { d _ { 2 , j } } \\\\ { d _ { 3 , j } } \\end{array} \\right] = \\left[ \\begin{array} { l l l l } { 02 } & { 03 } & { 01 } & { 01 } \\\\ { 01 } & { 02 } & { 03 } & { 01 } \\\\ { 01 } & { 01 } & { 02 } & { 03 } \\\\ { 03 } & { 01 } & { 01 } & { 02 } \\end{array} \\right] \\times \\left[ \\begin{array} { c } { c _ { 0 , j } } \\\\ { c _ { 1 , j } } \\\\ { c _ { 2 , j } } \\\\ { c _ { 3 , j } } \\end{array} \\right]$\n",
    "\n",
    "Note that the ShiftRows operation $b_{i, j+c}$ is a cyclic shift and the matrix multiplcation in MixColumns denotes the xtime operation in GF($2^8$).\n",
    "\n",
    "It's possible to combine all three of these operations into a single line. We can write 4 bytes of $d$ as the linear combination of four different 4 byte vectors:\n",
    "\n",
    "$\\left[ \\begin{array} { l } { d _ { 0 , j } } \\\\ { d _ { 1 , j } } \\\\ { d _ { 2 , j } } \\\\ { d _ { 3 , j } } \\end{array} \\right] = \\left[ \\begin{array} { l } { 02 } \\\\ { 01 } \\\\ { 01 } \\\\ { 03 } \\end{array} \\right] \\operatorname { sbox } \\left[ a _ { 0 , j + 0 } \\right] \\oplus \\left[ \\begin{array} { l } { 03 } \\\\ { 02 } \\\\ { 01 } \\\\ { 01 } \\end{array} \\right] \\operatorname { sbox } \\left[ a _ { 1 , j + 1 } \\right] \\oplus \\left[ \\begin{array} { c } { 01 } \\\\ { 03 } \\\\ { 02 } \\\\ { 01 } \\end{array} \\right] \\operatorname { sbox } \\left[ a _ { 2 , j + 2 } \\right] \\oplus \\left[ \\begin{array} { c } { 01 } \\\\ { 01 } \\\\ { 03 } \\\\ { 02 } \\end{array} \\right] \\operatorname { sbox } \\left[ a _ { 3 , j + 3 } \\right]$\n",
    "\n",
    "Now, for each of these four components, we can tabulate the outputs for every possible 8-bit input:\n",
    "\n",
    "$T _ { 0 } [ a ] = \\left[ \\begin{array} { l l } { 02 \\times \\operatorname { sbox } [ a ] } \\\\ { 01 \\times \\operatorname { sbox } [ a ] } \\\\ { 01 \\times \\operatorname { sbox } [ a ] } \\\\ { 03 \\times \\operatorname { sbox } [ a ] } \\end{array} \\right]$\n",
    "\n",
    "$T _ { 1 } [ a ] = \\left[ \\begin{array} { l } { 03 \\times \\operatorname { sbox } [ a ] } \\\\ { 02 \\times \\operatorname { sbox } [ a ] } \\\\ { 01 \\times \\operatorname { sbox } [ a ] } \\\\ { 01 \\times \\operatorname { sbox } [ a ] } \\end{array} \\right]$\n",
    "\n",
    "$T _ { 2 } [ a ] = \\left[ \\begin{array} { l l } { 01 \\times \\operatorname { sbox } [ a ] } \\\\ { 03 \\times \\operatorname { sbox } [ a ] } \\\\ { 02 \\times \\operatorname { sbox } [ a ] } \\\\ { 01 \\times \\operatorname { sbox } [ a ] } \\end{array} \\right]$\n",
    "\n",
    "$T _ { 3 } [ a ] = \\left[ \\begin{array} { l l } { 01 \\times \\operatorname { sbox } [ a ] } \\\\ { 01 \\times \\operatorname { sbox } [ a ] } \\\\ { 03 \\times \\operatorname { sbox } [ a ] } \\\\ { 02 \\times \\operatorname { sbox } [ a ] } \\end{array} \\right]$\n",
    "\n",
    "These tables have 2^8 different 32-bit entries, so together the tables take up 4 kB. Finally, we can quickly compute one round of AES by calculating\n",
    "\n",
    "$\\left[ \\begin{array} { l } { d _ { 0 , j } } \\\\ { d _ { 1 , j } } \\\\ { d _ { 2 , j } } \\\\ { d _ { 3 , j } } \\end{array} \\right] = T _ { 0 } \\left[ a _ { 0 } , j + 0 \\right] \\oplus T _ { 1 } \\left[ a _ { 1 } , j + 1 \\right] \\oplus T _ { 2 } \\left[ a _ { 2 } , j + 2 \\right] \\oplus T _ { 3 } \\left[ a _ { 3 } , j + 3 \\right]$\n",
    "\n",
    "All together, with AddRoundKey at the end, a single round now takes 16 table lookups and 16 32-bit XOR operations. This arrangement is much more efficient than the traditional 8-bit implementation. There are a few more tradeoffs that can be made: for instance, the tables only differ by 8-bit shifts, so it's also possible to store only 1 kB of lookup tables at the expense of a few rotate operations.\n",
    "\n",
    "While the TINYAES128C library we've been using doesn't make this optimization, another library included with ChipWhisperer called MBEDTLS does."
   ]
  },
  {
   "cell_type": "code",
   "execution_count": null,
   "metadata": {},
   "outputs": [],
   "source": [
    "PLATFORM = 'CWLITEARM'\n",
    "CRYPTO_TARGET = 'MBEDTLS'"
   ]
  },
  {
   "cell_type": "code",
   "execution_count": null,
   "metadata": {},
   "outputs": [],
   "source": [
    "%%bash -s \"$PLATFORM\" \"$CRYPTO_TARGET\"\n",
    "cd ../../../hardware/victims/firmware/simpleserial-aes\n",
    "make PLATFORM=$1 CRYPTO_TARGET=$2"
   ]
  },
  {
   "cell_type": "code",
   "execution_count": null,
   "metadata": {},
   "outputs": [],
   "source": [
    "%run \"../../Setup_Scripts/Setup_Generic.ipynb\""
   ]
  },
  {
   "cell_type": "code",
   "execution_count": null,
   "metadata": {},
   "outputs": [],
   "source": [
    "fw_path = '../../../hardware/victims/firmware/simpleserial-aes/simpleserial-aes-{}.hex'.format(PLATFORM)\n",
    "cw.program_target(scope, prog, fw_path)"
   ]
  },
  {
   "cell_type": "code",
   "execution_count": null,
   "metadata": {},
   "outputs": [],
   "source": [
    "#Capture Traces\n",
    "from tqdm import tnrange, trange\n",
    "import numpy as np\n",
    "import time\n",
    "\n",
    "ktp = cw.ktp.Basic()\n",
    "\n",
    "traces = []\n",
    "N = 50000  # Number of traces\n",
    "project = cw.create_project(\"32bit_AES.cwp\", overwrite=True)\n",
    "\n",
    "for i in trange(N, desc='Capturing traces'):\n",
    "    key, text = ktp.next()  # manual creation of a key, text pair can be substituted here\n",
    "\n",
    "    trace = cw.capture_trace(scope, target, text, key)\n",
    "    if trace is None:\n",
    "        continue\n",
    "    project.traces.append(trace)\n",
    "\n",
    "print(scope.adc.trig_count)"
   ]
  },
  {
   "cell_type": "markdown",
   "metadata": {},
   "source": [
    "If we plot the AES power trace:"
   ]
  },
  {
   "cell_type": "code",
   "execution_count": null,
   "metadata": {},
   "outputs": [],
   "source": [
    "%matplotlib notebook\n",
    "import matplotlib.pyplot as plt\n",
    "\n",
    "plt.figure()\n",
    "plt.plot(project.waves[0])\n",
    "plt.show()"
   ]
  },
  {
   "cell_type": "markdown",
   "metadata": {},
   "source": [
    "You probably can't even pick out the different AES rounds anymore (whereas it was pretty obvious on TINYAES128C). MBED is also way faster - we only got part way into round 2 with 5000 samples of TINYAES, but with MBED we can finish the entire encryption in less than 5000 samples! Two questions we need to answer now are:\n",
    "\n",
    "1. Is it possible for us to break this AES implementation?\n",
    "1. If so, what sort of leakage model do we need?\n",
    "\n",
    "As it turns out, the answers are:\n",
    "\n",
    "1. Yes!\n",
    "1. We can continue to use the same leakage model - the SBox output\n",
    "\n",
    "This might come as a surprise, but it's true! Shift rows is just moving things around, so it doesn't really change anything about our attack, and multiplication step for MixColumns is linear, meaning it doesn't actually affect the attack either:"
   ]
  },
  {
   "cell_type": "code",
   "execution_count": null,
   "metadata": {},
   "outputs": [],
   "source": [
    "@scared.attack_selection_function\n",
    "def sbox_output(plaintext, guesses):\n",
    "    res = np.empty((plaintext.shape[0], len(guesses), plaintext.shape[1]), dtype='uint8')\n",
    "    for i, guess in enumerate(guesses):\n",
    "        res[:,i,:] = scared.aes.sub_bytes(np.bitwise_xor(plaintext, guess))\n",
    "    return res"
   ]
  },
  {
   "cell_type": "code",
   "execution_count": null,
   "metadata": {},
   "outputs": [],
   "source": [
    "a = scared.CPAAttack(selection_function=sbox_output,\n",
    "                    model=scared.HammingWeight(),\n",
    "                    discriminant=scared.maxabs)"
   ]
  },
  {
   "cell_type": "code",
   "execution_count": null,
   "metadata": {},
   "outputs": [],
   "source": [
    "import estraces\n",
    "cw_traces = estraces.read_ths_from_ram(np.array([wave for wave in project.waves], dtype='float64'), \n",
    "                                      plaintext=np.array([textin for textin in project.textins], dtype='uint8'))"
   ]
  },
  {
   "cell_type": "code",
   "execution_count": null,
   "metadata": {},
   "outputs": [],
   "source": [
    "%%time\n",
    "container = scared.Container(cw_traces)\n",
    "a.run(container)\n",
    "for byte in np.argmax(a.scores, axis=0):\n",
    "    print(\"{:02X}\".format(byte%0xFF))"
   ]
  },
  {
   "cell_type": "code",
   "execution_count": null,
   "metadata": {},
   "outputs": [],
   "source": [
    "len(a.results)"
   ]
  },
  {
   "cell_type": "code",
   "execution_count": null,
   "metadata": {},
   "outputs": [],
   "source": [
    "from bokeh.plotting import figure, show\n",
    "from bokeh.io import output_notebook\n",
    "output_notebook()\n",
    "p = figure()\n",
    "key_guess = []\n",
    "for i in range(16):\n",
    "    results = a.results\n",
    "    sorted_scores = np.argsort(a.scores, axis=0)\n",
    "    guess = sorted_scores[-1][i]\n",
    "    sec_guess = sorted_scores[-2][i]\n",
    "    third_guess = sorted_scores[-3][i]\n",
    "    xrange = range(len(results[guess][i]))\n",
    "    print(\"Best Guess is {:02X} (Corr = {})\".format(guess, a.scores[guess][i]))\n",
    "    p.line(xrange, results[guess][i], color=\"red\")\n",
    "    p.line(xrange, results[sec_guess][i], color=\"green\")\n",
    "    p.line(xrange, results[third_guess][i], color=\"green\")\n",
    "    key_guess.append(guess)\n",
    "    \n",
    "show(p)"
   ]
  },
  {
   "cell_type": "code",
   "execution_count": null,
   "metadata": {},
   "outputs": [],
   "source": [
    "np.argmax(a.scores.transpose()[0][:])"
   ]
  },
  {
   "cell_type": "code",
   "execution_count": null,
   "metadata": {},
   "outputs": [],
   "source": [
    "np.sort(a.scores.transpose()[0][:])"
   ]
  },
  {
   "cell_type": "code",
   "execution_count": null,
   "metadata": {},
   "outputs": [],
   "source": [
    "import scared\n",
    "\n",
    "def ahhh(ciphertext, guesses):\n",
    "    res = np.empty((ciphertext.shape[0], len(guesses), ciphertext.shape[1]), dtype='uint8')\n",
    "    for i, guess in enumerate(guesses):\n",
    "        st10 = scared.aes.shift_rows(ciphertext)\n",
    "        st9 = scared.aes.inv_sub_bytes(np.bitwise_xor(ciphertext, guess))\n",
    "        res[:,i,:] = np.bitwise_xor(st9, st10)\n",
    "    return res\n",
    "\n",
    "a = scared.CPAAttack(selection_function=ahhh,\n",
    "                    model=scared.HammingWeight(),\n",
    "                    discriminant=scared.maxabs)\n",
    "asdfasdf = estraces.read_ths_from_ram(np.array([wave for wave in project.waves], dtype='float64'), \n",
    "                                      ciphertext=np.array([textin for textin in project.textouts], dtype='uint8'))\n",
    "\n",
    "container = scared.Container(asdfasdf)\n",
    "a.run(container)\n",
    "print(a.scores.transpose()[0][0xD0])\n",
    "print(a.scores.transpose()[1][0x14])\n",
    "for byte in np.argmax(a.scores, axis=0):\n",
    "    print(\"{:02X}\".format(byte%0xFF))"
   ]
  },
  {
   "cell_type": "code",
   "execution_count": null,
   "metadata": {},
   "outputs": [],
   "source": [
    "import scared\n",
    "\n",
    "a = scared.CPAAttack(selection_function=ahhh,\n",
    "                    model=scared.HammingWeight(),\n",
    "                    discriminant=scared.maxabs)\n",
    "asdfasdf = estraces.read_ths_from_ram(np.array([wave for wave in project.waves], dtype='float64'), \n",
    "                                      plaintext=np.array([textin for textin in project.textins], dtype='uint8'),\n",
    "                                      ciphertext=np.array([textout for textout in project.textouts], dtype='uint8'))"
   ]
  }
 ],
 "metadata": {
  "kernelspec": {
   "display_name": "Python 3",
   "language": "python",
   "name": "python3"
  },
  "language_info": {
   "codemirror_mode": {
    "name": "ipython",
    "version": 3
   },
   "file_extension": ".py",
   "mimetype": "text/x-python",
   "name": "python",
   "nbconvert_exporter": "python",
   "pygments_lexer": "ipython3",
   "version": "3.7.7"
  }
 },
 "nbformat": 4,
 "nbformat_minor": 2
}
