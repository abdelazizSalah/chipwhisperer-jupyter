{
 "cells": [
  {
   "cell_type": "markdown",
   "metadata": {},
   "source": [
    "# Husky glitch exploration\n",
    "\n",
    "Husky's FPGA includes a small logic analyzer which allows the glitch generation to be visualized.\n",
    "\n",
    "This is also a companion to test_husky.py, for when visual inspection of glitches is needed."
   ]
  },
  {
   "cell_type": "code",
   "execution_count": null,
   "metadata": {},
   "outputs": [],
   "source": [
    "SCOPE=\"OPENADC\"\n",
    "PLATFORM=\"CWHUSKY\""
   ]
  },
  {
   "cell_type": "code",
   "execution_count": null,
   "metadata": {},
   "outputs": [],
   "source": [
    "import chipwhisperer as cw\n",
    "scope = cw.scope(name='Husky')"
   ]
  },
  {
   "cell_type": "code",
   "execution_count": null,
   "metadata": {},
   "outputs": [],
   "source": [
    "%run \"../Setup_Scripts/Setup_Generic.ipynb\""
   ]
  },
  {
   "cell_type": "code",
   "execution_count": null,
   "metadata": {},
   "outputs": [],
   "source": [
    "scope.clock.clkgen_src = 'system'\n",
    "scope.clock.clkgen_freq = 10e6\n",
    "scope.clock.adc_mul = 1\n",
    "\n",
    "scope.adc.basic_mode = \"rising_edge\"\n",
    "\n",
    "scope.trigger.triggers = \"tio4\"\n",
    "scope.io.hs2 = \"clkgen\""
   ]
  },
  {
   "cell_type": "markdown",
   "metadata": {},
   "source": [
    "### set up glitch:"
   ]
  },
  {
   "cell_type": "code",
   "execution_count": null,
   "metadata": {},
   "outputs": [],
   "source": [
    "scope.glitch.enabled = True\n",
    "scope.glitch.clk_src = 'pll'\n",
    "scope.clock.pll.update_fpga_vco(600e6)\n",
    "scope.glitch.repeat = 4\n",
    "scope.glitch.output = 'glitch_only'\n",
    "scope.glitch.trigger_src = 'manual'\n",
    "scope.glitch.repeat = 1"
   ]
  },
  {
   "cell_type": "code",
   "execution_count": null,
   "metadata": {},
   "outputs": [],
   "source": [
    "assert scope.glitch.mmcm_locked"
   ]
  },
  {
   "cell_type": "markdown",
   "metadata": {},
   "source": [
    "### set up LA:"
   ]
  },
  {
   "cell_type": "code",
   "execution_count": null,
   "metadata": {},
   "outputs": [],
   "source": [
    "scope.LA.enabled = True\n",
    "scope.LA.oversampling_factor = 50\n",
    "scope.LA.capture_group = 0\n",
    "scope.LA.trigger_source = \"glitch_source\""
   ]
  },
  {
   "cell_type": "code",
   "execution_count": null,
   "metadata": {},
   "outputs": [],
   "source": [
    "assert scope.LA.locked"
   ]
  },
  {
   "cell_type": "markdown",
   "metadata": {},
   "source": [
    "### Single capture:"
   ]
  },
  {
   "cell_type": "code",
   "execution_count": null,
   "metadata": {},
   "outputs": [],
   "source": [
    "# adjust as you wish:\n",
    "scope.glitch.offset = 1000\n",
    "scope.glitch.width = 1000"
   ]
  },
  {
   "cell_type": "code",
   "execution_count": null,
   "metadata": {},
   "outputs": [],
   "source": [
    "scope.glitch.manual_trigger()\n",
    "glitchout = scope.LA.read_capture(0)\n",
    "source    = scope.LA.read_capture(1)\n",
    "mmcm1out  = scope.LA.read_capture(2)\n",
    "mmcm2out  = scope.LA.read_capture(3)\n",
    "glitchgo = scope.LA.read_capture(4)\n",
    "glitchenable = scope.LA.read_capture(6)\n",
    "glitchsource = scope.LA.read_capture(7)"
   ]
  },
  {
   "cell_type": "code",
   "execution_count": null,
   "metadata": {},
   "outputs": [],
   "source": [
    "from bokeh.plotting import figure, show\n",
    "from bokeh.resources import INLINE\n",
    "from bokeh.io import output_notebook\n",
    "from bokeh.models import Span, Legend, LegendItem\n",
    "import numpy as np\n",
    "output_notebook(INLINE)\n",
    "\n",
    "o = figure(plot_width=1800)\n",
    "\n",
    "xrange = range(len(source))\n",
    "O1 = o.line(xrange, source + 6, line_color='black')\n",
    "O2 = o.line(xrange, mmcm1out + 4, line_color='blue')\n",
    "O3 = o.line(xrange, mmcm2out + 2, line_color='red')\n",
    "O4 = o.line(xrange, glitchout + 0, line_color='purple', line_width=2)\n",
    "O5 = o.line(xrange, glitchenable - 2, line_color='black', line_width=2)\n",
    "#O6 = o.line(xrange, glitchgo - 4, line_color='green')\n",
    "#O7 = o.line(xrange, glitchsource - 6, line_color='pink', line_width=2)\n",
    "\n",
    "legend = Legend(items=[\n",
    "    LegendItem(label='source clock', renderers=[O1]),\n",
    "    LegendItem(label='glitch MMCM1 output', renderers=[O2]),\n",
    "    LegendItem(label='glitch MMCM2 output', renderers=[O3]),\n",
    "    LegendItem(label='glitch clock output', renderers=[O4]),\n",
    "    LegendItem(label='glitch enable', renderers=[O5]),\n",
    "    #LegendItem(label='glitch go', renderers=[O6]),\n",
    "    #LegendItem(label='glitch trigger source', renderers=[O7]),\n",
    "])\n",
    "o.add_layout(legend)"
   ]
  },
  {
   "cell_type": "code",
   "execution_count": null,
   "metadata": {},
   "outputs": [],
   "source": [
    "# add glitch markers:\n",
    "def find_transitions(data, pattern):\n",
    "    return [i for i in range(0,len(data)) if list(data[i:i+len(pattern)])==pattern]\n",
    "\n",
    "transitions = [find_transitions(glitchout, [0,1])[0]+1, find_transitions(glitchout, [1,0])[0]]\n",
    "\n",
    "for b in transitions:\n",
    "    o.renderers.extend([Span(location=b, dimension='height', line_color='black', line_width=1, line_dash='dashed')])"
   ]
  },
  {
   "cell_type": "code",
   "execution_count": null,
   "metadata": {},
   "outputs": [],
   "source": [
    "show(o)"
   ]
  },
  {
   "cell_type": "markdown",
   "metadata": {},
   "source": [
    "### Interactive glitch visualization:\n",
    "\n",
    "Now we step through many width/offset combinations so that we can interactively plot them.\n",
    "We carry out STEPS * STEPS captures. STEPS can be whatever you want, but there it doesn't make sense to make STEPS greater that `scope.LA.oversampling_factor`."
   ]
  },
  {
   "cell_type": "code",
   "execution_count": null,
   "metadata": {},
   "outputs": [],
   "source": [
    "STEPS = 50\n",
    "increment = scope.glitch.phase_shift_steps * 2 // STEPS\n",
    "start = -scope.glitch.phase_shift_steps\n",
    "\n",
    "import numpy as np\n",
    "glitchouts = np.zeros((STEPS, STEPS, scope.LA.capture_depth))\n",
    "sources    = np.zeros((STEPS, STEPS, scope.LA.capture_depth))\n",
    "mmcm1outs  = np.zeros((STEPS, STEPS, scope.LA.capture_depth))\n",
    "mmcm2outs  = np.zeros((STEPS, STEPS, scope.LA.capture_depth))\n",
    "glitchenables = np.zeros((STEPS, STEPS, scope.LA.capture_depth))\n",
    "glitchgo = np.zeros((STEPS, STEPS, scope.LA.capture_depth))\n",
    "\n",
    "from tqdm import tnrange\n",
    "\n",
    "scope.glitch.offset = start\n",
    "scope.glitch.width = start\n",
    "\n",
    "for o in tnrange(STEPS):\n",
    "    scope.glitch.width = start\n",
    "    for w in range(STEPS):\n",
    "        scope.glitch.manual_trigger()\n",
    "        glitchouts[o][w]   = scope.LA.read_capture(0)\n",
    "        sources[o][w]      = scope.LA.read_capture(1)\n",
    "        mmcm1outs[o][w]    = scope.LA.read_capture(2)\n",
    "        mmcm2outs[o][w]    = scope.LA.read_capture(3)\n",
    "        glitchgo[o][w]     = scope.LA.read_capture(4)\n",
    "        glitchenables[o][w] = scope.LA.read_capture(6)\n",
    "\n",
    "        scope.glitch.width += increment\n",
    "    scope.glitch.width = start\n",
    "    scope.glitch.offset += increment"
   ]
  },
  {
   "cell_type": "code",
   "execution_count": null,
   "metadata": {},
   "outputs": [],
   "source": [
    "def update_plot(offset, width):\n",
    "    S1.data_source.data['y'] = sources[offset][width] + 6\n",
    "    S2.data_source.data['y'] = mmcm1outs[offset][width] + 4\n",
    "    S3.data_source.data['y'] = mmcm2outs[offset][width] + 2 \n",
    "    S4.data_source.data['y'] = glitchouts[offset][width] + 0\n",
    "    S5.data_source.data['y'] = glitchenables[offset][width] - 2\n",
    "    #S6.data_source.data['y'] = glitchgo[offset][width] - 4\n",
    "\n",
    "    t1s = find_transitions(glitchouts[offset][width], [0,1])\n",
    "    t2s = find_transitions(glitchouts[offset][width], [1,0])\n",
    "    if len(t1s) == 1:\n",
    "        T1.location = t1s[0]+1\n",
    "    else:\n",
    "        T1.location = 0\n",
    "\n",
    "    if len(t2s) == 1:\n",
    "        T2.location = t2s[0]\n",
    "    else:\n",
    "        T2.location = 0\n",
    "\n",
    "    \n",
    "    push_notebook()"
   ]
  },
  {
   "cell_type": "code",
   "execution_count": null,
   "metadata": {},
   "outputs": [],
   "source": [
    "from ipywidgets import interact, Layout\n",
    "from bokeh.io import push_notebook\n",
    "from bokeh.models import Span, Legend, LegendItem\n",
    "\n",
    "o = 0\n",
    "w = 0\n",
    "\n",
    "S = figure(plot_width=1800)\n",
    "\n",
    "xrange = range(len(sources[o][w]))\n",
    "S1 = S.line(xrange, sources[o][w] + 6, line_color='black')\n",
    "S2 = S.line(xrange, mmcm1outs[o][w] + 4, line_color='blue')\n",
    "S3 = S.line(xrange, mmcm2outs[o][w] + 2 , line_color='red')\n",
    "S4 = S.line(xrange, glitchouts[o][w] + 0, line_color='purple', line_width=2)\n",
    "S5 = S.line(xrange, glitchenables[o][w] - 2, line_color='green')\n",
    "#S6 = S.line(xrange, glitchgo[o][w] - 4, line_color='pink', line_width=2)\n",
    "\n",
    "t1s = find_transitions(glitchouts[o][w], [0,1])\n",
    "t2s = find_transitions(glitchouts[o][w], [1,0])\n",
    "if len(t1s) == 1:\n",
    "    T1_location = t1s[0]+1\n",
    "else:\n",
    "    T1_location = 0\n",
    "\n",
    "if len(t2s) == 1:\n",
    "    T2_location = t2s[0]\n",
    "else:\n",
    "    T2_location = 0\n",
    "        \n",
    "T1 = Span(location=T1_location, dimension='height', line_color='black', line_dash='dashed', line_width=1)\n",
    "T2 = Span(location=T2_location, dimension='height', line_color='black', line_dash='dashed', line_width=1)\n",
    "\n",
    "legend = Legend(items=[\n",
    "    LegendItem(label='source clock', renderers=[S1]),\n",
    "    LegendItem(label='glitch MMCM1 output', renderers=[S2]),\n",
    "    LegendItem(label='glitch MMCM2 output', renderers=[S3]),\n",
    "    LegendItem(label='glitch clock output', renderers=[S4]),\n",
    "    LegendItem(label='glitch enable', renderers=[S5]),\n",
    "    #LegendItem(label='glitch go', renderers=[S6]),\n",
    "])\n",
    "\n",
    "S.add_layout(legend)\n",
    "S.add_layout(T1)\n",
    "S.add_layout(T2)"
   ]
  },
  {
   "cell_type": "code",
   "execution_count": null,
   "metadata": {},
   "outputs": [],
   "source": [
    "show(S, notebook_handle=True)"
   ]
  },
  {
   "cell_type": "code",
   "execution_count": null,
   "metadata": {},
   "outputs": [],
   "source": [
    "interact(update_plot, offset=(0, STEPS-1), width=(0, STEPS-1))"
   ]
  },
  {
   "cell_type": "markdown",
   "metadata": {},
   "source": [
    "# Validation:"
   ]
  },
  {
   "cell_type": "markdown",
   "metadata": {},
   "source": [
    "### For a particular static offset/width setting, runs lots of captures and ensure there are no missing glitches and no extra glitches:"
   ]
  },
  {
   "cell_type": "code",
   "execution_count": null,
   "metadata": {},
   "outputs": [],
   "source": [
    "scope.glitch.repeat = 2\n",
    "from tqdm import tnrange\n",
    "import numpy as np\n",
    "oversamp = scope.LA.oversampling_factor\n",
    "lens = []\n",
    "overlens = []\n",
    "zerolens = 0\n",
    "for i in tnrange(1000):\n",
    "    scope.glitch.manual_trigger()\n",
    "    glitchenable = scope.LA.read_capture(6)\n",
    "    glitchlen = len(np.where(glitchenable > 0)[0])\n",
    "    if not glitchlen:\n",
    "        zerolens += 1\n",
    "        continue\n",
    "    lens.append(glitchlen)\n",
    "    if abs(glitchlen/scope.glitch.repeat - oversamp) > oversamp / 4:\n",
    "        overlens.append(glitchlen)"
   ]
  },
  {
   "cell_type": "code",
   "execution_count": null,
   "metadata": {},
   "outputs": [],
   "source": [
    "assert zerolens == 0 and len(overlens) == 0"
   ]
  },
  {
   "cell_type": "markdown",
   "metadata": {},
   "source": [
    "### Look for \"double glitches\" bug:\n",
    "\n",
    "Here we just look at \"go\" length, for double glitches that can't otherwise be seen.\n",
    "This takes a while."
   ]
  },
  {
   "cell_type": "code",
   "execution_count": null,
   "metadata": {},
   "outputs": [],
   "source": [
    "scope.clock.pll.update_fpga_vco(1200e6)"
   ]
  },
  {
   "cell_type": "code",
   "execution_count": null,
   "metadata": {},
   "outputs": [],
   "source": [
    "reps = 2\n",
    "width = -3000\n",
    "oversamp = 30\n",
    "stepsize = 1\n",
    "\n",
    "scope.glitch.width = 0\n",
    "scope.glitch.offset = 0\n",
    "\n",
    "scope.clock.pll.update_fpga_vco(1200e6)\n",
    "\n",
    "margin = 1\n",
    "prev_offset = 0\n",
    "scope.LA.oversampling_factor = oversamp\n",
    "scope.glitch.width = width\n",
    "scope.glitch.repeat = 1\n",
    "\n",
    "overs = []\n",
    "badoffsets = []\n",
    "\n",
    "from tqdm import tnrange\n",
    "\n",
    "for r in tnrange(reps):\n",
    "    offsets = []\n",
    "    glitches = []\n",
    "    sources = []\n",
    "\n",
    "    # sweep offset and check that glitch offset increases by expected amount each time:\n",
    "    for i, o in enumerate(range(-scope.glitch.phase_shift_steps, scope.glitch.phase_shift_steps - stepsize, stepsize)):\n",
    "        scope.glitch.offset = o\n",
    "        scope.glitch.manual_trigger()\n",
    "        glitchgo  = scope.LA.read_capture(4)\n",
    "        golen = len(np.where(glitchgo > 0)[0])\n",
    "        if golen and (abs(golen - oversamp) > oversamp/4):\n",
    "            print(\"Go width exceeds margin: %d at offset=%d\" % (golen, o))\n",
    "            overs.append(golen)\n",
    "            badoffsets.append(o)\n"
   ]
  },
  {
   "cell_type": "code",
   "execution_count": null,
   "metadata": {},
   "outputs": [],
   "source": [
    "scope.clock.pll.update_fpga_vco(600e6)"
   ]
  },
  {
   "cell_type": "markdown",
   "metadata": {},
   "source": [
    "When done, turn off MMCMs to cool down:"
   ]
  },
  {
   "cell_type": "code",
   "execution_count": null,
   "metadata": {},
   "outputs": [],
   "source": [
    "scope.LA.enabled = False\n",
    "scope.glitch.enabled = False"
   ]
  },
  {
   "cell_type": "code",
   "execution_count": null,
   "metadata": {},
   "outputs": [],
   "source": []
  }
 ],
 "metadata": {
  "kernelspec": {
   "display_name": "Python 3",
   "language": "python",
   "name": "python3"
  },
  "language_info": {
   "codemirror_mode": {
    "name": "ipython",
    "version": 3
   },
   "file_extension": ".py",
   "mimetype": "text/x-python",
   "name": "python",
   "nbconvert_exporter": "python",
   "pygments_lexer": "ipython3",
   "version": "3.7.4"
  }
 },
 "nbformat": 4,
 "nbformat_minor": 4
}
