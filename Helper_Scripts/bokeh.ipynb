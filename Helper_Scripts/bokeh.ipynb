{
 "cells": [
  {
   "cell_type": "code",
   "execution_count": null,
   "metadata": {},
   "outputs": [],
   "source": [
    "from bokeh.plotting import figure, show\n",
    "from bokeh.io import output_notebook, push_notebook\n",
    "from bokeh.palettes import Spectral4\n",
    "\n",
    "def bokeh_plot(y, **kwargs):\n",
    "    output_notebook()\n",
    "    p = figure()\n",
    "    p.line(range(len(y)), y, **kwargs)\n",
    "    show(p)"
   ]
  }
 ],
 "metadata": {
  "language_info": {
   "name": "python",
   "pygments_lexer": "ipython3"
  }
 },
 "nbformat": 4,
 "nbformat_minor": 2
}
